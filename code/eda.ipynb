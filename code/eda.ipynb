{
 "cells": [
  {
   "cell_type": "code",
   "execution_count": 23,
   "metadata": {},
   "outputs": [],
   "source": [
    "import pandas as pd\n",
    "import numpy as np\n",
    "import matplotlib.pyplot as plt\n",
    "import seaborn as sns"
   ]
  },
  {
   "cell_type": "code",
   "execution_count": 2,
   "metadata": {},
   "outputs": [],
   "source": [
    "wwbi_country = pd.read_csv('../data/wwbi_country.csv')\n",
    "wwbi_data = pd.read_csv('../data/wwbi_data.csv')\n",
    "wwbi_series = pd.read_csv('../data/wwbi_series.csv')"
   ]
  },
  {
   "cell_type": "markdown",
   "metadata": {},
   "source": [
    "# Data overview"
   ]
  },
  {
   "cell_type": "markdown",
   "metadata": {},
   "source": [
    "## All data"
   ]
  },
  {
   "cell_type": "code",
   "execution_count": 138,
   "metadata": {},
   "outputs": [
    {
     "name": "stdout",
     "output_type": "stream",
     "text": [
      "<class 'pandas.core.frame.DataFrame'>\n",
      "RangeIndex: 141985 entries, 0 to 141984\n",
      "Data columns (total 4 columns):\n",
      " #   Column          Non-Null Count   Dtype  \n",
      "---  ------          --------------   -----  \n",
      " 0   country_code    141985 non-null  object \n",
      " 1   indicator_code  141985 non-null  object \n",
      " 2   year            141985 non-null  int64  \n",
      " 3   value           141985 non-null  float64\n",
      "dtypes: float64(1), int64(1), object(2)\n",
      "memory usage: 4.3+ MB\n"
     ]
    }
   ],
   "source": [
    "wwbi_data.info()"
   ]
  },
  {
   "cell_type": "code",
   "execution_count": 139,
   "metadata": {},
   "outputs": [
    {
     "name": "stdout",
     "output_type": "stream",
     "text": [
      "<class 'pandas.core.frame.DataFrame'>\n",
      "RangeIndex: 202 entries, 0 to 201\n",
      "Data columns (total 29 columns):\n",
      " #   Column                                             Non-Null Count  Dtype  \n",
      "---  ------                                             --------------  -----  \n",
      " 0   country_code                                       202 non-null    object \n",
      " 1   short_name                                         202 non-null    object \n",
      " 2   table_name                                         201 non-null    object \n",
      " 3   long_name                                          201 non-null    object \n",
      " 4   x2_alpha_code                                      199 non-null    object \n",
      " 5   currency_unit                                      201 non-null    object \n",
      " 6   special_notes                                      88 non-null     object \n",
      " 7   region                                             200 non-null    object \n",
      " 8   income_group                                       199 non-null    object \n",
      " 9   wb_2_code                                          199 non-null    object \n",
      " 10  national_accounts_base_year                        127 non-null    float64\n",
      " 11  national_accounts_reference_year                   70 non-null     float64\n",
      " 12  sna_price_valuation                                198 non-null    object \n",
      " 13  lending_category                                   144 non-null    object \n",
      " 14  other_groups                                       59 non-null     object \n",
      " 15  system_of_national_accounts                        198 non-null    float64\n",
      " 16  balance_of_payments_manual_in_use                  195 non-null    object \n",
      " 17  external_debt_reporting_status                     123 non-null    object \n",
      " 18  system_of_trade                                    166 non-null    object \n",
      " 19  government_accounting_concept                      158 non-null    object \n",
      " 20  imf_data_dissemination_standard                    187 non-null    object \n",
      " 21  latest_household_survey                            151 non-null    object \n",
      " 22  source_of_most_recent_income_and_expenditure_data  168 non-null    object \n",
      " 23  vital_registration_complete                        202 non-null    bool   \n",
      " 24  latest_agricultural_census                         124 non-null    float64\n",
      " 25  latest_industrial_data                             146 non-null    float64\n",
      " 26  latest_trade_data                                  185 non-null    float64\n",
      " 27  latest_population_census_year                      196 non-null    float64\n",
      " 28  latest_population_census_notes                     81 non-null     object \n",
      "dtypes: bool(1), float64(7), object(21)\n",
      "memory usage: 44.5+ KB\n"
     ]
    }
   ],
   "source": [
    "wwbi_country.info()"
   ]
  },
  {
   "cell_type": "code",
   "execution_count": 140,
   "metadata": {},
   "outputs": [
    {
     "name": "stdout",
     "output_type": "stream",
     "text": [
      "<class 'pandas.core.frame.DataFrame'>\n",
      "RangeIndex: 302 entries, 0 to 301\n",
      "Data columns (total 2 columns):\n",
      " #   Column          Non-Null Count  Dtype \n",
      "---  ------          --------------  ----- \n",
      " 0   indicator_code  302 non-null    object\n",
      " 1   indicator_name  302 non-null    object\n",
      "dtypes: object(2)\n",
      "memory usage: 4.8+ KB\n"
     ]
    }
   ],
   "source": [
    "wwbi_series.info()"
   ]
  },
  {
   "cell_type": "markdown",
   "metadata": {},
   "source": [
    "## Vietnam data"
   ]
  },
  {
   "cell_type": "code",
   "execution_count": 3,
   "metadata": {},
   "outputs": [
    {
     "name": "stdout",
     "output_type": "stream",
     "text": [
      "<class 'pandas.core.frame.DataFrame'>\n",
      "Index: 876 entries, 137957 to 138832\n",
      "Data columns (total 4 columns):\n",
      " #   Column          Non-Null Count  Dtype  \n",
      "---  ------          --------------  -----  \n",
      " 0   country_code    876 non-null    object \n",
      " 1   indicator_code  876 non-null    object \n",
      " 2   year            876 non-null    int64  \n",
      " 3   value           876 non-null    float64\n",
      "dtypes: float64(1), int64(1), object(2)\n",
      "memory usage: 34.2+ KB\n"
     ]
    }
   ],
   "source": [
    "# Vietnam data\n",
    "wwbi_data_vietnam = wwbi_data[wwbi_data['country_code'] == 'VNM']\n",
    "wwbi_data_vietnam.info()"
   ]
  },
  {
   "cell_type": "code",
   "execution_count": 4,
   "metadata": {},
   "outputs": [
    {
     "data": {
      "application/vnd.microsoft.datawrangler.viewer.v0+json": {
       "columns": [
        {
         "name": "index",
         "rawType": "object",
         "type": "string"
        },
        {
         "name": "year",
         "rawType": "float64",
         "type": "float"
        },
        {
         "name": "value",
         "rawType": "float64",
         "type": "float"
        }
       ],
       "conversionMethod": "pd.DataFrame",
       "ref": "18d89ff4-fb50-45ee-8512-e3785a0d41a2",
       "rows": [
        [
         "count",
         "876.0",
         "876.0"
        ],
        [
         "mean",
         "2010.5833333333333",
         "6128.471287236721"
        ],
        [
         "std",
         "3.047981377270943",
         "59274.42203946948"
        ],
        [
         "min",
         "2007.0",
         "-0.165216222405434"
        ],
        [
         "25%",
         "2008.0",
         "0.22912018746137625"
        ],
        [
         "50%",
         "2010.0",
         "0.5407243967056274"
        ],
        [
         "75%",
         "2012.0",
         "1.3419910811105775"
        ],
        [
         "max",
         "2019.0",
         "1100737.0"
        ]
       ],
       "shape": {
        "columns": 2,
        "rows": 8
       }
      },
      "text/html": [
       "<div>\n",
       "<style scoped>\n",
       "    .dataframe tbody tr th:only-of-type {\n",
       "        vertical-align: middle;\n",
       "    }\n",
       "\n",
       "    .dataframe tbody tr th {\n",
       "        vertical-align: top;\n",
       "    }\n",
       "\n",
       "    .dataframe thead th {\n",
       "        text-align: right;\n",
       "    }\n",
       "</style>\n",
       "<table border=\"1\" class=\"dataframe\">\n",
       "  <thead>\n",
       "    <tr style=\"text-align: right;\">\n",
       "      <th></th>\n",
       "      <th>year</th>\n",
       "      <th>value</th>\n",
       "    </tr>\n",
       "  </thead>\n",
       "  <tbody>\n",
       "    <tr>\n",
       "      <th>count</th>\n",
       "      <td>876.000000</td>\n",
       "      <td>8.760000e+02</td>\n",
       "    </tr>\n",
       "    <tr>\n",
       "      <th>mean</th>\n",
       "      <td>2010.583333</td>\n",
       "      <td>6.128471e+03</td>\n",
       "    </tr>\n",
       "    <tr>\n",
       "      <th>std</th>\n",
       "      <td>3.047981</td>\n",
       "      <td>5.927442e+04</td>\n",
       "    </tr>\n",
       "    <tr>\n",
       "      <th>min</th>\n",
       "      <td>2007.000000</td>\n",
       "      <td>-1.652162e-01</td>\n",
       "    </tr>\n",
       "    <tr>\n",
       "      <th>25%</th>\n",
       "      <td>2008.000000</td>\n",
       "      <td>2.291202e-01</td>\n",
       "    </tr>\n",
       "    <tr>\n",
       "      <th>50%</th>\n",
       "      <td>2010.000000</td>\n",
       "      <td>5.407244e-01</td>\n",
       "    </tr>\n",
       "    <tr>\n",
       "      <th>75%</th>\n",
       "      <td>2012.000000</td>\n",
       "      <td>1.341991e+00</td>\n",
       "    </tr>\n",
       "    <tr>\n",
       "      <th>max</th>\n",
       "      <td>2019.000000</td>\n",
       "      <td>1.100737e+06</td>\n",
       "    </tr>\n",
       "  </tbody>\n",
       "</table>\n",
       "</div>"
      ],
      "text/plain": [
       "              year         value\n",
       "count   876.000000  8.760000e+02\n",
       "mean   2010.583333  6.128471e+03\n",
       "std       3.047981  5.927442e+04\n",
       "min    2007.000000 -1.652162e-01\n",
       "25%    2008.000000  2.291202e-01\n",
       "50%    2010.000000  5.407244e-01\n",
       "75%    2012.000000  1.341991e+00\n",
       "max    2019.000000  1.100737e+06"
      ]
     },
     "execution_count": 4,
     "metadata": {},
     "output_type": "execute_result"
    }
   ],
   "source": [
    "wwbi_data_vietnam.describe()"
   ]
  },
  {
   "cell_type": "code",
   "execution_count": 5,
   "metadata": {},
   "outputs": [
    {
     "data": {
      "application/vnd.microsoft.datawrangler.viewer.v0+json": {
       "columns": [
        {
         "name": "index",
         "rawType": "int64",
         "type": "integer"
        },
        {
         "name": "country_code",
         "rawType": "object",
         "type": "string"
        },
        {
         "name": "indicator_code",
         "rawType": "object",
         "type": "string"
        },
        {
         "name": "year",
         "rawType": "int64",
         "type": "integer"
        },
        {
         "name": "value",
         "rawType": "float64",
         "type": "float"
        }
       ],
       "conversionMethod": "pd.DataFrame",
       "ref": "5cc144f0-e963-4d8d-841e-ea1a53a001c7",
       "rows": [
        [
         "137957",
         "VNM",
         "BI.EMP.PWRK.CA.PB.ZS",
         "2008",
         "0.192339867353439"
        ],
        [
         "137958",
         "VNM",
         "BI.EMP.PWRK.CA.PB.ZS",
         "2009",
         "0.217028185725212"
        ],
        [
         "137959",
         "VNM",
         "BI.EMP.PWRK.CA.PB.ZS",
         "2010",
         "0.18933542072773"
        ],
        [
         "137960",
         "VNM",
         "BI.EMP.TOTL.CA.PB.ZS",
         "2008",
         "0.192306324839592"
        ],
        [
         "137961",
         "VNM",
         "BI.EMP.TOTL.CA.PB.ZS",
         "2009",
         "0.216510936617851"
        ],
        [
         "137962",
         "VNM",
         "BI.EMP.TOTL.CA.PB.ZS",
         "2010",
         "0.189292550086975"
        ],
        [
         "137963",
         "VNM",
         "BI.PWK.CMPA.GE.SM",
         "2017",
         "0.223252171464529"
        ],
        [
         "137964",
         "VNM",
         "BI.PWK.CMPA.GE.MD",
         "2017",
         "0.327069322271691"
        ],
        [
         "137965",
         "VNM",
         "BI.PWK.CMPA.HD.SM",
         "2017",
         "0.17918740391215"
        ],
        [
         "137966",
         "VNM",
         "BI.PWK.CMPA.HD.MD",
         "2017",
         "0.242420106419401"
        ],
        [
         "137967",
         "VNM",
         "BI.PWK.CMPA.HN.SM",
         "2017",
         "0.249358932020604"
        ],
        [
         "137968",
         "VNM",
         "BI.PWK.CMPA.HN.MD",
         "2017",
         "0.333331315657379"
        ],
        [
         "137969",
         "VNM",
         "BI.PWK.CMPA.JU.SM",
         "2017",
         "0.101190728288246"
        ],
        [
         "137970",
         "VNM",
         "BI.PWK.CMPA.JU.MD",
         "2017",
         "0.113984205628015"
        ],
        [
         "137971",
         "VNM",
         "BI.PWK.CMPA.PO.SM",
         "2017",
         "0.431486573018077"
        ],
        [
         "137972",
         "VNM",
         "BI.PWK.CMPA.PO.MD",
         "2017",
         "0.580597965953548"
        ],
        [
         "137973",
         "VNM",
         "BI.PWK.CMPA.PT.SM",
         "2017",
         "0.265095710859268"
        ],
        [
         "137974",
         "VNM",
         "BI.PWK.CMPA.PT.MD",
         "2017",
         "0.373596873913729"
        ],
        [
         "137975",
         "VNM",
         "BI.PWK.CMPA.ST.SM",
         "2017",
         "0.223843139394374"
        ],
        [
         "137976",
         "VNM",
         "BI.PWK.CMPA.ST.MD",
         "2017",
         "0.32750158975624"
        ],
        [
         "137977",
         "VNM",
         "BI.PWK.CMPA.UT.SM",
         "2017",
         "0.191319278901736"
        ],
        [
         "137978",
         "VNM",
         "BI.PWK.CMPA.UT.MD",
         "2017",
         "0.237827966194432"
        ],
        [
         "137979",
         "VNM",
         "BI.EMP.FRML.ED.PB.ZS",
         "2007",
         "0.298183143138886"
        ],
        [
         "137980",
         "VNM",
         "BI.EMP.FRML.ED.PB.ZS",
         "2009",
         "0.328122466802597"
        ],
        [
         "137981",
         "VNM",
         "BI.EMP.PWRK.ED.PB.ZS",
         "2007",
         "0.293581664562225"
        ],
        [
         "137982",
         "VNM",
         "BI.EMP.PWRK.ED.PB.ZS",
         "2008",
         "0.28649890422821"
        ],
        [
         "137983",
         "VNM",
         "BI.EMP.PWRK.ED.PB.ZS",
         "2009",
         "0.319917559623718"
        ],
        [
         "137984",
         "VNM",
         "BI.EMP.PWRK.ED.PB.ZS",
         "2010",
         "0.300606191158295"
        ],
        [
         "137985",
         "VNM",
         "BI.EMP.TOTL.ED.PB.ZS",
         "2007",
         "0.292549878358841"
        ],
        [
         "137986",
         "VNM",
         "BI.EMP.TOTL.ED.PB.ZS",
         "2008",
         "0.286340802907944"
        ],
        [
         "137987",
         "VNM",
         "BI.EMP.TOTL.ED.PB.ZS",
         "2009",
         "0.320295065641403"
        ],
        [
         "137988",
         "VNM",
         "BI.EMP.TOTL.ED.PB.ZS",
         "2010",
         "0.301273733377457"
        ],
        [
         "137989",
         "VNM",
         "BI.WAG.PRVS.FM.SM",
         "2010",
         "0.824450075626373"
        ],
        [
         "137990",
         "VNM",
         "BI.WAG.PRVS.FM.SM",
         "2012",
         "0.735834538936615"
        ],
        [
         "137991",
         "VNM",
         "BI.WAG.PRVS.FM.SM",
         "2014",
         "0.831671237945557"
        ],
        [
         "137992",
         "VNM",
         "BI.WAG.PRVS.FM.SM",
         "2016",
         "0.833562612533569"
        ],
        [
         "137993",
         "VNM",
         "BI.WAG.PRVS.FM.MD",
         "2010",
         "0.837209343910217"
        ],
        [
         "137994",
         "VNM",
         "BI.WAG.PRVS.FM.MD",
         "2012",
         "0.789500296115875"
        ],
        [
         "137995",
         "VNM",
         "BI.WAG.PRVS.FM.MD",
         "2014",
         "0.873563230037689"
        ],
        [
         "137996",
         "VNM",
         "BI.WAG.PRVS.FM.MD",
         "2016",
         "0.888888835906982"
        ],
        [
         "137997",
         "VNM",
         "BI.WAG.PUBS.FM.SM",
         "2010",
         "0.879357397556305"
        ],
        [
         "137998",
         "VNM",
         "BI.WAG.PUBS.FM.SM",
         "2012",
         "0.795300662517548"
        ],
        [
         "137999",
         "VNM",
         "BI.WAG.PUBS.FM.SM",
         "2014",
         "0.771005809307098"
        ],
        [
         "138000",
         "VNM",
         "BI.WAG.PUBS.FM.SM",
         "2016",
         "0.781109809875488"
        ],
        [
         "138001",
         "VNM",
         "BI.WAG.PUBS.FM.MD",
         "2010",
         "0.833333373069763"
        ],
        [
         "138002",
         "VNM",
         "BI.WAG.PUBS.FM.MD",
         "2012",
         "0.814805746078491"
        ],
        [
         "138003",
         "VNM",
         "BI.WAG.PUBS.FM.MD",
         "2014",
         "0.833333313465118"
        ],
        [
         "138004",
         "VNM",
         "BI.WAG.PUBS.FM.MD",
         "2016",
         "0.833333373069763"
        ],
        [
         "138005",
         "VNM",
         "BI.PWK.PRVS.FE.ZS",
         "2007",
         "0.369599521160126"
        ],
        [
         "138006",
         "VNM",
         "BI.PWK.PRVS.FE.ZS",
         "2008",
         "0.374701857566834"
        ]
       ],
       "shape": {
        "columns": 4,
        "rows": 876
       }
      },
      "text/html": [
       "<div>\n",
       "<style scoped>\n",
       "    .dataframe tbody tr th:only-of-type {\n",
       "        vertical-align: middle;\n",
       "    }\n",
       "\n",
       "    .dataframe tbody tr th {\n",
       "        vertical-align: top;\n",
       "    }\n",
       "\n",
       "    .dataframe thead th {\n",
       "        text-align: right;\n",
       "    }\n",
       "</style>\n",
       "<table border=\"1\" class=\"dataframe\">\n",
       "  <thead>\n",
       "    <tr style=\"text-align: right;\">\n",
       "      <th></th>\n",
       "      <th>country_code</th>\n",
       "      <th>indicator_code</th>\n",
       "      <th>year</th>\n",
       "      <th>value</th>\n",
       "    </tr>\n",
       "  </thead>\n",
       "  <tbody>\n",
       "    <tr>\n",
       "      <th>137957</th>\n",
       "      <td>VNM</td>\n",
       "      <td>BI.EMP.PWRK.CA.PB.ZS</td>\n",
       "      <td>2008</td>\n",
       "      <td>0.192340</td>\n",
       "    </tr>\n",
       "    <tr>\n",
       "      <th>137958</th>\n",
       "      <td>VNM</td>\n",
       "      <td>BI.EMP.PWRK.CA.PB.ZS</td>\n",
       "      <td>2009</td>\n",
       "      <td>0.217028</td>\n",
       "    </tr>\n",
       "    <tr>\n",
       "      <th>137959</th>\n",
       "      <td>VNM</td>\n",
       "      <td>BI.EMP.PWRK.CA.PB.ZS</td>\n",
       "      <td>2010</td>\n",
       "      <td>0.189335</td>\n",
       "    </tr>\n",
       "    <tr>\n",
       "      <th>137960</th>\n",
       "      <td>VNM</td>\n",
       "      <td>BI.EMP.TOTL.CA.PB.ZS</td>\n",
       "      <td>2008</td>\n",
       "      <td>0.192306</td>\n",
       "    </tr>\n",
       "    <tr>\n",
       "      <th>137961</th>\n",
       "      <td>VNM</td>\n",
       "      <td>BI.EMP.TOTL.CA.PB.ZS</td>\n",
       "      <td>2009</td>\n",
       "      <td>0.216511</td>\n",
       "    </tr>\n",
       "    <tr>\n",
       "      <th>...</th>\n",
       "      <td>...</td>\n",
       "      <td>...</td>\n",
       "      <td>...</td>\n",
       "      <td>...</td>\n",
       "    </tr>\n",
       "    <tr>\n",
       "      <th>138828</th>\n",
       "      <td>VNM</td>\n",
       "      <td>BI.WAG.TOTL.PB.ZS</td>\n",
       "      <td>2015</td>\n",
       "      <td>20.000008</td>\n",
       "    </tr>\n",
       "    <tr>\n",
       "      <th>138829</th>\n",
       "      <td>VNM</td>\n",
       "      <td>BI.WAG.TOTL.PB.ZS</td>\n",
       "      <td>2016</td>\n",
       "      <td>33.233761</td>\n",
       "    </tr>\n",
       "    <tr>\n",
       "      <th>138830</th>\n",
       "      <td>VNM</td>\n",
       "      <td>BI.WAG.TOTL.PB.ZS</td>\n",
       "      <td>2017</td>\n",
       "      <td>30.030022</td>\n",
       "    </tr>\n",
       "    <tr>\n",
       "      <th>138831</th>\n",
       "      <td>VNM</td>\n",
       "      <td>BI.WAG.TOTL.PB.ZS</td>\n",
       "      <td>2018</td>\n",
       "      <td>34.423294</td>\n",
       "    </tr>\n",
       "    <tr>\n",
       "      <th>138832</th>\n",
       "      <td>VNM</td>\n",
       "      <td>BI.WAG.TOTL.PB.ZS</td>\n",
       "      <td>2019</td>\n",
       "      <td>38.972202</td>\n",
       "    </tr>\n",
       "  </tbody>\n",
       "</table>\n",
       "<p>876 rows × 4 columns</p>\n",
       "</div>"
      ],
      "text/plain": [
       "       country_code        indicator_code  year      value\n",
       "137957          VNM  BI.EMP.PWRK.CA.PB.ZS  2008   0.192340\n",
       "137958          VNM  BI.EMP.PWRK.CA.PB.ZS  2009   0.217028\n",
       "137959          VNM  BI.EMP.PWRK.CA.PB.ZS  2010   0.189335\n",
       "137960          VNM  BI.EMP.TOTL.CA.PB.ZS  2008   0.192306\n",
       "137961          VNM  BI.EMP.TOTL.CA.PB.ZS  2009   0.216511\n",
       "...             ...                   ...   ...        ...\n",
       "138828          VNM     BI.WAG.TOTL.PB.ZS  2015  20.000008\n",
       "138829          VNM     BI.WAG.TOTL.PB.ZS  2016  33.233761\n",
       "138830          VNM     BI.WAG.TOTL.PB.ZS  2017  30.030022\n",
       "138831          VNM     BI.WAG.TOTL.PB.ZS  2018  34.423294\n",
       "138832          VNM     BI.WAG.TOTL.PB.ZS  2019  38.972202\n",
       "\n",
       "[876 rows x 4 columns]"
      ]
     },
     "execution_count": 5,
     "metadata": {},
     "output_type": "execute_result"
    }
   ],
   "source": [
    "wwbi_data_vietnam"
   ]
  },
  {
   "cell_type": "markdown",
   "metadata": {},
   "source": [
    "# Question 1: % GDP as public wage"
   ]
  },
  {
   "cell_type": "markdown",
   "metadata": {},
   "source": [
    "## 1. wwbi_series"
   ]
  },
  {
   "cell_type": "code",
   "execution_count": 144,
   "metadata": {},
   "outputs": [
    {
     "name": "stdout",
     "output_type": "stream",
     "text": [
      "        indicator_code                    indicator_name\n",
      "300  BI.WAG.TOTL.GD.ZS  Wage bill as a percentage of GDP\n"
     ]
    }
   ],
   "source": [
    "print(wwbi_series[wwbi_series['indicator_code'] == 'BI.WAG.TOTL.GD.ZS'])\n"
   ]
  },
  {
   "cell_type": "markdown",
   "metadata": {},
   "source": [
    "**Fundamental knowledge**\n",
    "- The wage bill is defined as the total compensation (in cash or in-kind) payable to a government employee in exchange for work. Wage bill includes wages and salaries, allowances, and social security contributions made on behalf of employees to social insurance schemes (WWBI Codebook (data/WWBI-Codebook-v3.1.pdf))\n",
    "- The `Wage bill as a percentage of GDP` measures the size of the public sector wage bill (i.e., total government salary expenditure) relative to the entire economy's output.\n",
    "- What it tells us:\n",
    "    - Macroeconomic perspective: How much of a country’s economic resources are going into paying public employees -> Provide insights for the significance of public sector in the economy, show the government's role as a major employer. \n",
    "    - Economic efficiency: A very high ratio may suggest an oversized or inefficient public sector that could crowd out private sector activity. A disproportionately high wage bill can crowd out private sector investment. Research indicates that a 1% reduction in the public wage bill can lead to an immediate 0.51 percentage point increase in the investment-to-GDP ratio, suggesting that excessive public wage expenditures might deter private investment.\n",
    "    - Benchmarking across countries: Helps compare how labor-intensive the public sector is in different economies, reflecting differing governmental roles and structures. \n",
    "    - Observing over time: An increasing wage bill relative to GDP can strain public finances, leading to higher deficits or necessitating cuts in other essential services. For example, Mali's wage bill surged from 4.4% of GDP in 2010 to 7.9% in 2022, placing it above regional averages and raising fiscal concerns\n",
    "\n",
    "- Some references:\n",
    "    1. [The public sector wage bill in the euro area - European Central Bank (ECB)](https://www.ecb.europa.eu/pub/pdf/scpops/ecbop176.en.pdf)\n",
    "\n",
    "    2. [Mali: Selected Issues – The Public Sector Wage Bill in Mali: Evolution, Regional Comparison, and Reform Options - International Monetary Fund (IMF)](https://www.elibrary.imf.org/view/journals/002/2023/210/article-A003-en.xml)\n",
    "\n",
    "    3. [Wage Bill and Employment Diagnostic: Key Drivers and Policy Options - World Bank](https://documents1.worldbank.org/curated/en/099320012152224196/pdf/P17870707ee3d60d0b5460a16a39379461.pdf)\n",
    "\n",
    "    4. [How Government Spending Slows Growth - National Bureau of Economic Research (NBER)](https://www.nber.org/digest/jan00/how-government-spending-slows-growth)\n",
    "\n",
    "    5. [Can Public Sector Wage Bills Be Reduced? -  National Bureau of Economic Research (NBER)](https://www.nber.org/system/files/working_papers/w17881/w17881.pdf)"
   ]
  },
  {
   "cell_type": "markdown",
   "metadata": {},
   "source": [
    "## 2. wwbi_country"
   ]
  },
  {
   "cell_type": "code",
   "execution_count": 145,
   "metadata": {},
   "outputs": [
    {
     "data": {
      "application/vnd.microsoft.datawrangler.viewer.v0+json": {
       "columns": [
        {
         "name": "index",
         "rawType": "int64",
         "type": "integer"
        },
        {
         "name": "country_code",
         "rawType": "object",
         "type": "string"
        },
        {
         "name": "short_name",
         "rawType": "object",
         "type": "string"
        },
        {
         "name": "region",
         "rawType": "object",
         "type": "unknown"
        },
        {
         "name": "income_group",
         "rawType": "object",
         "type": "unknown"
        }
       ],
       "conversionMethod": "pd.DataFrame",
       "ref": "d9790d16-867d-47a1-94b2-340a75f462cb",
       "rows": [
        [
         "0",
         "ABW",
         "Aruba",
         "Latin America & Caribbean",
         "High income"
        ],
        [
         "1",
         "AFG",
         "Afghanistan",
         "South Asia",
         "Low income"
        ],
        [
         "2",
         "AGO",
         "Angola",
         "Sub-Saharan Africa",
         "Lower middle income"
        ],
        [
         "3",
         "AIA",
         "Anguilla",
         null,
         null
        ],
        [
         "4",
         "ALB",
         "Albania",
         "Europe & Central Asia",
         "Upper middle income"
        ],
        [
         "5",
         "ARE",
         "United Arab Emirates",
         "Middle East & North Africa",
         "High income"
        ],
        [
         "6",
         "ARG",
         "Argentina",
         "Latin America & Caribbean",
         "Upper middle income"
        ],
        [
         "7",
         "ARM",
         "Armenia",
         "Europe & Central Asia",
         "Upper middle income"
        ],
        [
         "8",
         "ATG",
         "Antigua and Barbuda",
         "Latin America & Caribbean",
         "High income"
        ],
        [
         "9",
         "AUS",
         "Australia",
         "East Asia & Pacific",
         "High income"
        ],
        [
         "10",
         "AUT",
         "Austria",
         "Europe & Central Asia",
         "High income"
        ],
        [
         "11",
         "AZE",
         "Azerbaijan",
         "Europe & Central Asia",
         "Upper middle income"
        ],
        [
         "12",
         "BDI",
         "Burundi",
         "Sub-Saharan Africa",
         "Low income"
        ],
        [
         "13",
         "BEL",
         "Belgium",
         "Europe & Central Asia",
         "High income"
        ],
        [
         "14",
         "BEN",
         "Benin",
         "Sub-Saharan Africa",
         "Lower middle income"
        ],
        [
         "15",
         "BFA",
         "Burkina Faso",
         "Sub-Saharan Africa",
         "Low income"
        ],
        [
         "16",
         "BGD",
         "Bangladesh",
         "South Asia",
         "Lower middle income"
        ],
        [
         "17",
         "BGR",
         "Bulgaria",
         "Europe & Central Asia",
         "Upper middle income"
        ],
        [
         "18",
         "BHR",
         "Bahrain",
         "Middle East & North Africa",
         "High income"
        ],
        [
         "19",
         "BHS",
         "The Bahamas",
         "Latin America & Caribbean",
         "High income"
        ],
        [
         "20",
         "BIH",
         "Bosnia and Herzegovina",
         "Europe & Central Asia",
         "Upper middle income"
        ],
        [
         "21",
         "BLR",
         "Belarus",
         "Europe & Central Asia",
         "Upper middle income"
        ],
        [
         "22",
         "BLZ",
         "Belize",
         "Latin America & Caribbean",
         "Upper middle income"
        ],
        [
         "23",
         "BMU",
         "Bermuda",
         "North America",
         "High income"
        ],
        [
         "24",
         "BOL",
         "Bolivia",
         "Latin America & Caribbean",
         "Lower middle income"
        ],
        [
         "25",
         "BRA",
         "Brazil",
         "Latin America & Caribbean",
         "Upper middle income"
        ],
        [
         "26",
         "BRB",
         "Barbados",
         "Latin America & Caribbean",
         "High income"
        ],
        [
         "27",
         "BRN",
         "Brunei",
         "East Asia & Pacific",
         "High income"
        ],
        [
         "28",
         "BTN",
         "Bhutan",
         "South Asia",
         "Lower middle income"
        ],
        [
         "29",
         "BWA",
         "Botswana",
         "Sub-Saharan Africa",
         "Upper middle income"
        ],
        [
         "30",
         "CAF",
         "Central African Republic",
         "Sub-Saharan Africa",
         "Low income"
        ],
        [
         "31",
         "CAN",
         "Canada",
         "North America",
         "High income"
        ],
        [
         "32",
         "CHE",
         "Switzerland",
         "Europe & Central Asia",
         "High income"
        ],
        [
         "33",
         "CHL",
         "Chile",
         "Latin America & Caribbean",
         "High income"
        ],
        [
         "34",
         "CHN",
         "China",
         "East Asia & Pacific",
         "Upper middle income"
        ],
        [
         "35",
         "CIV",
         "Côte d'Ivoire",
         "Sub-Saharan Africa",
         "Lower middle income"
        ],
        [
         "36",
         "CMR",
         "Cameroon",
         "Sub-Saharan Africa",
         "Lower middle income"
        ],
        [
         "37",
         "COD",
         "Dem. Rep. Congo",
         "Sub-Saharan Africa",
         "Low income"
        ],
        [
         "38",
         "COG",
         "Congo",
         "Sub-Saharan Africa",
         "Lower middle income"
        ],
        [
         "39",
         "COL",
         "Colombia",
         "Latin America & Caribbean",
         "Upper middle income"
        ],
        [
         "40",
         "COM",
         "Comoros",
         "Sub-Saharan Africa",
         "Lower middle income"
        ],
        [
         "41",
         "CPV",
         "Cabo Verde",
         "Sub-Saharan Africa",
         "Lower middle income"
        ],
        [
         "42",
         "CRI",
         "Costa Rica",
         "Latin America & Caribbean",
         "Upper middle income"
        ],
        [
         "43",
         "CUW",
         "Curaçao",
         "Latin America & Caribbean",
         "High income"
        ],
        [
         "44",
         "CYM",
         "Cayman Islands",
         "Latin America & Caribbean",
         "High income"
        ],
        [
         "45",
         "CYP",
         "Cyprus",
         "Europe & Central Asia",
         "High income"
        ],
        [
         "46",
         "CZE",
         "Czech Republic",
         "Europe & Central Asia",
         "High income"
        ],
        [
         "47",
         "DEU",
         "Germany",
         "Europe & Central Asia",
         "High income"
        ],
        [
         "48",
         "DJI",
         "Djibouti",
         "Middle East & North Africa",
         "Lower middle income"
        ],
        [
         "49",
         "DMA",
         "Dominica",
         "Latin America & Caribbean",
         "Upper middle income"
        ]
       ],
       "shape": {
        "columns": 4,
        "rows": 202
       }
      },
      "text/html": [
       "<div>\n",
       "<style scoped>\n",
       "    .dataframe tbody tr th:only-of-type {\n",
       "        vertical-align: middle;\n",
       "    }\n",
       "\n",
       "    .dataframe tbody tr th {\n",
       "        vertical-align: top;\n",
       "    }\n",
       "\n",
       "    .dataframe thead th {\n",
       "        text-align: right;\n",
       "    }\n",
       "</style>\n",
       "<table border=\"1\" class=\"dataframe\">\n",
       "  <thead>\n",
       "    <tr style=\"text-align: right;\">\n",
       "      <th></th>\n",
       "      <th>country_code</th>\n",
       "      <th>short_name</th>\n",
       "      <th>region</th>\n",
       "      <th>income_group</th>\n",
       "    </tr>\n",
       "  </thead>\n",
       "  <tbody>\n",
       "    <tr>\n",
       "      <th>0</th>\n",
       "      <td>ABW</td>\n",
       "      <td>Aruba</td>\n",
       "      <td>Latin America &amp; Caribbean</td>\n",
       "      <td>High income</td>\n",
       "    </tr>\n",
       "    <tr>\n",
       "      <th>1</th>\n",
       "      <td>AFG</td>\n",
       "      <td>Afghanistan</td>\n",
       "      <td>South Asia</td>\n",
       "      <td>Low income</td>\n",
       "    </tr>\n",
       "    <tr>\n",
       "      <th>2</th>\n",
       "      <td>AGO</td>\n",
       "      <td>Angola</td>\n",
       "      <td>Sub-Saharan Africa</td>\n",
       "      <td>Lower middle income</td>\n",
       "    </tr>\n",
       "    <tr>\n",
       "      <th>3</th>\n",
       "      <td>AIA</td>\n",
       "      <td>Anguilla</td>\n",
       "      <td>NaN</td>\n",
       "      <td>NaN</td>\n",
       "    </tr>\n",
       "    <tr>\n",
       "      <th>4</th>\n",
       "      <td>ALB</td>\n",
       "      <td>Albania</td>\n",
       "      <td>Europe &amp; Central Asia</td>\n",
       "      <td>Upper middle income</td>\n",
       "    </tr>\n",
       "    <tr>\n",
       "      <th>...</th>\n",
       "      <td>...</td>\n",
       "      <td>...</td>\n",
       "      <td>...</td>\n",
       "      <td>...</td>\n",
       "    </tr>\n",
       "    <tr>\n",
       "      <th>197</th>\n",
       "      <td>XKX</td>\n",
       "      <td>Kosovo</td>\n",
       "      <td>Europe &amp; Central Asia</td>\n",
       "      <td>Upper middle income</td>\n",
       "    </tr>\n",
       "    <tr>\n",
       "      <th>198</th>\n",
       "      <td>YEM</td>\n",
       "      <td>Yemen</td>\n",
       "      <td>Middle East &amp; North Africa</td>\n",
       "      <td>Low income</td>\n",
       "    </tr>\n",
       "    <tr>\n",
       "      <th>199</th>\n",
       "      <td>ZAF</td>\n",
       "      <td>South Africa</td>\n",
       "      <td>Sub-Saharan Africa</td>\n",
       "      <td>Upper middle income</td>\n",
       "    </tr>\n",
       "    <tr>\n",
       "      <th>200</th>\n",
       "      <td>ZMB</td>\n",
       "      <td>Zambia</td>\n",
       "      <td>Sub-Saharan Africa</td>\n",
       "      <td>Low income</td>\n",
       "    </tr>\n",
       "    <tr>\n",
       "      <th>201</th>\n",
       "      <td>ZWE</td>\n",
       "      <td>Zimbabwe</td>\n",
       "      <td>Sub-Saharan Africa</td>\n",
       "      <td>Lower middle income</td>\n",
       "    </tr>\n",
       "  </tbody>\n",
       "</table>\n",
       "<p>202 rows × 4 columns</p>\n",
       "</div>"
      ],
      "text/plain": [
       "    country_code    short_name                      region  \\\n",
       "0            ABW         Aruba   Latin America & Caribbean   \n",
       "1            AFG   Afghanistan                  South Asia   \n",
       "2            AGO        Angola          Sub-Saharan Africa   \n",
       "3            AIA      Anguilla                         NaN   \n",
       "4            ALB       Albania       Europe & Central Asia   \n",
       "..           ...           ...                         ...   \n",
       "197          XKX        Kosovo       Europe & Central Asia   \n",
       "198          YEM         Yemen  Middle East & North Africa   \n",
       "199          ZAF  South Africa          Sub-Saharan Africa   \n",
       "200          ZMB        Zambia          Sub-Saharan Africa   \n",
       "201          ZWE      Zimbabwe          Sub-Saharan Africa   \n",
       "\n",
       "            income_group  \n",
       "0            High income  \n",
       "1             Low income  \n",
       "2    Lower middle income  \n",
       "3                    NaN  \n",
       "4    Upper middle income  \n",
       "..                   ...  \n",
       "197  Upper middle income  \n",
       "198           Low income  \n",
       "199  Upper middle income  \n",
       "200           Low income  \n",
       "201  Lower middle income  \n",
       "\n",
       "[202 rows x 4 columns]"
      ]
     },
     "execution_count": 145,
     "metadata": {},
     "output_type": "execute_result"
    }
   ],
   "source": [
    "# neccessary columns\n",
    "wwbi_country_wage = wwbi_country[['country_code', 'short_name', 'region', 'income_group']]\n",
    "wwbi_country_wage"
   ]
  },
  {
   "cell_type": "code",
   "execution_count": 146,
   "metadata": {},
   "outputs": [
    {
     "name": "stdout",
     "output_type": "stream",
     "text": [
      "Num of unique countries: 202\n"
     ]
    }
   ],
   "source": [
    "# Num of unique countries\n",
    "print(f\"Num of unique countries: {wwbi_country_wage['country_code'].nunique()}\")"
   ]
  },
  {
   "cell_type": "code",
   "execution_count": 147,
   "metadata": {},
   "outputs": [
    {
     "name": "stdout",
     "output_type": "stream",
     "text": [
      "Number of unique regions: 7\n",
      "region\n",
      "Europe & Central Asia         50\n",
      "Sub-Saharan Africa            48\n",
      "Latin America & Caribbean     38\n",
      "East Asia & Pacific           32\n",
      "Middle East & North Africa    21\n",
      "South Asia                     8\n",
      "North America                  3\n",
      "NaN                            2\n",
      "Name: count, dtype: int64\n",
      "Countries without region:\n",
      "    country_code  short_name region income_group\n",
      "3            AIA    Anguilla    NaN          NaN\n",
      "124          MSR  Montserrat    NaN          NaN\n"
     ]
    }
   ],
   "source": [
    "print(f\"Number of unique regions: {wwbi_country_wage['region'].nunique()}\")\n",
    "print(wwbi_country_wage['region'].value_counts(dropna=False))\n",
    "\n",
    "print(\"Countries without region:\")\n",
    "print(wwbi_country_wage[wwbi_country_wage['region'].isnull()])"
   ]
  },
  {
   "cell_type": "code",
   "execution_count": 148,
   "metadata": {},
   "outputs": [
    {
     "name": "stdout",
     "output_type": "stream",
     "text": [
      "\n",
      "Number of unique income groups: 4\n",
      "income_group\n",
      "High income            66\n",
      "Lower middle income    54\n",
      "Upper middle income    52\n",
      "Low income             27\n",
      "NaN                     3\n",
      "Name: count, dtype: int64\n",
      "Countries without income group:\n",
      "    country_code  short_name                     region income_group\n",
      "3            AIA    Anguilla                        NaN          NaN\n",
      "124          MSR  Montserrat                        NaN          NaN\n",
      "193          VEN   Venezuela  Latin America & Caribbean          NaN\n"
     ]
    }
   ],
   "source": [
    "print(f\"\\nNumber of unique income groups: {wwbi_country_wage['income_group'].nunique()}\")\n",
    "print(wwbi_country_wage['income_group'].value_counts(dropna=False))\n",
    "print(\"Countries without income group:\")\n",
    "print(wwbi_country_wage[wwbi_country_wage['income_group'].isnull()])"
   ]
  },
  {
   "cell_type": "code",
   "execution_count": 149,
   "metadata": {},
   "outputs": [
    {
     "name": "stdout",
     "output_type": "stream",
     "text": [
      "\n",
      "Cross-tabulation of regions and income groups:\n"
     ]
    },
    {
     "data": {
      "application/vnd.microsoft.datawrangler.viewer.v0+json": {
       "columns": [
        {
         "name": "region",
         "rawType": "object",
         "type": "string"
        },
        {
         "name": "High income",
         "rawType": "int64",
         "type": "integer"
        },
        {
         "name": "Low income",
         "rawType": "int64",
         "type": "integer"
        },
        {
         "name": "Lower middle income",
         "rawType": "int64",
         "type": "integer"
        },
        {
         "name": "Upper middle income",
         "rawType": "int64",
         "type": "integer"
        }
       ],
       "conversionMethod": "pd.DataFrame",
       "ref": "a5051cf8-2b44-4c9f-84c8-f9d533acbdf7",
       "rows": [
        [
         "East Asia & Pacific",
         "10",
         "0",
         "14",
         "8"
        ],
        [
         "Europe & Central Asia",
         "30",
         "0",
         "4",
         "16"
        ],
        [
         "Latin America & Caribbean",
         "14",
         "0",
         "5",
         "18"
        ],
        [
         "Middle East & North Africa",
         "8",
         "2",
         "8",
         "3"
        ],
        [
         "North America",
         "3",
         "0",
         "0",
         "0"
        ],
        [
         "South Asia",
         "0",
         "1",
         "6",
         "1"
        ],
        [
         "Sub-Saharan Africa",
         "1",
         "24",
         "17",
         "6"
        ]
       ],
       "shape": {
        "columns": 4,
        "rows": 7
       }
      },
      "text/html": [
       "<div>\n",
       "<style scoped>\n",
       "    .dataframe tbody tr th:only-of-type {\n",
       "        vertical-align: middle;\n",
       "    }\n",
       "\n",
       "    .dataframe tbody tr th {\n",
       "        vertical-align: top;\n",
       "    }\n",
       "\n",
       "    .dataframe thead th {\n",
       "        text-align: right;\n",
       "    }\n",
       "</style>\n",
       "<table border=\"1\" class=\"dataframe\">\n",
       "  <thead>\n",
       "    <tr style=\"text-align: right;\">\n",
       "      <th>income_group</th>\n",
       "      <th>High income</th>\n",
       "      <th>Low income</th>\n",
       "      <th>Lower middle income</th>\n",
       "      <th>Upper middle income</th>\n",
       "    </tr>\n",
       "    <tr>\n",
       "      <th>region</th>\n",
       "      <th></th>\n",
       "      <th></th>\n",
       "      <th></th>\n",
       "      <th></th>\n",
       "    </tr>\n",
       "  </thead>\n",
       "  <tbody>\n",
       "    <tr>\n",
       "      <th>East Asia &amp; Pacific</th>\n",
       "      <td>10</td>\n",
       "      <td>0</td>\n",
       "      <td>14</td>\n",
       "      <td>8</td>\n",
       "    </tr>\n",
       "    <tr>\n",
       "      <th>Europe &amp; Central Asia</th>\n",
       "      <td>30</td>\n",
       "      <td>0</td>\n",
       "      <td>4</td>\n",
       "      <td>16</td>\n",
       "    </tr>\n",
       "    <tr>\n",
       "      <th>Latin America &amp; Caribbean</th>\n",
       "      <td>14</td>\n",
       "      <td>0</td>\n",
       "      <td>5</td>\n",
       "      <td>18</td>\n",
       "    </tr>\n",
       "    <tr>\n",
       "      <th>Middle East &amp; North Africa</th>\n",
       "      <td>8</td>\n",
       "      <td>2</td>\n",
       "      <td>8</td>\n",
       "      <td>3</td>\n",
       "    </tr>\n",
       "    <tr>\n",
       "      <th>North America</th>\n",
       "      <td>3</td>\n",
       "      <td>0</td>\n",
       "      <td>0</td>\n",
       "      <td>0</td>\n",
       "    </tr>\n",
       "    <tr>\n",
       "      <th>South Asia</th>\n",
       "      <td>0</td>\n",
       "      <td>1</td>\n",
       "      <td>6</td>\n",
       "      <td>1</td>\n",
       "    </tr>\n",
       "    <tr>\n",
       "      <th>Sub-Saharan Africa</th>\n",
       "      <td>1</td>\n",
       "      <td>24</td>\n",
       "      <td>17</td>\n",
       "      <td>6</td>\n",
       "    </tr>\n",
       "  </tbody>\n",
       "</table>\n",
       "</div>"
      ],
      "text/plain": [
       "income_group                High income  Low income  Lower middle income  \\\n",
       "region                                                                     \n",
       "East Asia & Pacific                  10           0                   14   \n",
       "Europe & Central Asia                30           0                    4   \n",
       "Latin America & Caribbean            14           0                    5   \n",
       "Middle East & North Africa            8           2                    8   \n",
       "North America                         3           0                    0   \n",
       "South Asia                            0           1                    6   \n",
       "Sub-Saharan Africa                    1          24                   17   \n",
       "\n",
       "income_group                Upper middle income  \n",
       "region                                           \n",
       "East Asia & Pacific                           8  \n",
       "Europe & Central Asia                        16  \n",
       "Latin America & Caribbean                    18  \n",
       "Middle East & North Africa                    3  \n",
       "North America                                 0  \n",
       "South Asia                                    1  \n",
       "Sub-Saharan Africa                            6  "
      ]
     },
     "execution_count": 149,
     "metadata": {},
     "output_type": "execute_result"
    }
   ],
   "source": [
    "print(\"\\nCross-tabulation of regions and income groups:\")\n",
    "region_income_cross = pd.crosstab(wwbi_country_wage['region'], wwbi_country_wage['income_group'])\n",
    "region_income_cross"
   ]
  },
  {
   "cell_type": "markdown",
   "metadata": {},
   "source": [
    "**Insights**\n",
    "\n",
    "- There are 7 regions: ['Latin America & Caribbean', 'South Asia', 'Sub-Saharan Africa', 'Europe & Central Asia', 'Middle East & North Africa', 'East Asia & Pacific', 'North America'] with 2 countries missing region: Anguilla, Montserrat\n",
    "- There are 4 income groups: ['High income', 'Low income', 'Lower middle income', 'Upper middle income'] with 3 countries missing income group: Anguilla, Montserrat, Venezuela\n",
    "\n",
    "    => Handle missing strategy: drop 3 countries"
   ]
  },
  {
   "cell_type": "markdown",
   "metadata": {},
   "source": [
    "## 3. wwbi_data"
   ]
  },
  {
   "cell_type": "code",
   "execution_count": 150,
   "metadata": {},
   "outputs": [
    {
     "data": {
      "application/vnd.microsoft.datawrangler.viewer.v0+json": {
       "columns": [
        {
         "name": "index",
         "rawType": "int64",
         "type": "integer"
        },
        {
         "name": "country_code",
         "rawType": "object",
         "type": "string"
        },
        {
         "name": "indicator_code",
         "rawType": "object",
         "type": "string"
        },
        {
         "name": "year",
         "rawType": "int64",
         "type": "integer"
        },
        {
         "name": "value",
         "rawType": "float64",
         "type": "float"
        }
       ],
       "conversionMethod": "pd.DataFrame",
       "ref": "023e67c5-6f88-4d05-b744-86c507b5283a",
       "rows": [
        [
         "201",
         "AFG",
         "BI.WAG.TOTL.GD.ZS",
         "2003",
         "6.32175874710083"
        ],
        [
         "202",
         "AFG",
         "BI.WAG.TOTL.GD.ZS",
         "2004",
         "7.28360843658447"
        ],
        [
         "203",
         "AFG",
         "BI.WAG.TOTL.GD.ZS",
         "2005",
         "6.61104583740234"
        ],
        [
         "204",
         "AFG",
         "BI.WAG.TOTL.GD.ZS",
         "2006",
         "7.07193994522095"
        ],
        [
         "205",
         "AFG",
         "BI.WAG.TOTL.GD.ZS",
         "2007",
         "7.36005115509033"
        ],
        [
         "206",
         "AFG",
         "BI.WAG.TOTL.GD.ZS",
         "2008",
         "8.24335098266602"
        ],
        [
         "207",
         "AFG",
         "BI.WAG.TOTL.GD.ZS",
         "2009",
         "9.4302225112915"
        ],
        [
         "208",
         "AFG",
         "BI.WAG.TOTL.GD.ZS",
         "2010",
         "11.2864961624146"
        ],
        [
         "209",
         "AFG",
         "BI.WAG.TOTL.GD.ZS",
         "2011",
         "12.5191402435303"
        ],
        [
         "210",
         "AFG",
         "BI.WAG.TOTL.GD.ZS",
         "2012",
         "12.9225921630859"
        ],
        [
         "211",
         "AFG",
         "BI.WAG.TOTL.GD.ZS",
         "2013",
         "12.4895076751709"
        ],
        [
         "212",
         "AFG",
         "BI.WAG.TOTL.GD.ZS",
         "2014",
         "12.6939010620117"
        ],
        [
         "213",
         "AFG",
         "BI.WAG.TOTL.GD.ZS",
         "2015",
         "12.4141006469727"
        ],
        [
         "214",
         "AFG",
         "BI.WAG.TOTL.GD.ZS",
         "2016",
         "13.4530191421509"
        ],
        [
         "215",
         "AFG",
         "BI.WAG.TOTL.GD.ZS",
         "2017",
         "13.5513114929199"
        ],
        [
         "216",
         "AFG",
         "BI.WAG.TOTL.GD.ZS",
         "2018",
         "13.8302965164185"
        ],
        [
         "217",
         "AFG",
         "BI.WAG.TOTL.GD.ZS",
         "2019",
         "13.4368333816528"
        ],
        [
         "218",
         "AFG",
         "BI.WAG.TOTL.GD.ZS",
         "2020",
         "13.4366617202759"
        ],
        [
         "869",
         "ALB",
         "BI.WAG.TOTL.GD.ZS",
         "2000",
         "6.63215970993042"
        ],
        [
         "870",
         "ALB",
         "BI.WAG.TOTL.GD.ZS",
         "2001",
         "7.31337451934814"
        ],
        [
         "871",
         "ALB",
         "BI.WAG.TOTL.GD.ZS",
         "2002",
         "6.86464071273804"
        ],
        [
         "872",
         "ALB",
         "BI.WAG.TOTL.GD.ZS",
         "2003",
         "6.60098314285278"
        ],
        [
         "873",
         "ALB",
         "BI.WAG.TOTL.GD.ZS",
         "2004",
         "6.64243507385254"
        ],
        [
         "874",
         "ALB",
         "BI.WAG.TOTL.GD.ZS",
         "2005",
         "6.67449140548706"
        ],
        [
         "875",
         "ALB",
         "BI.WAG.TOTL.GD.ZS",
         "2006",
         "6.49726343154907"
        ],
        [
         "876",
         "ALB",
         "BI.WAG.TOTL.GD.ZS",
         "2007",
         "6.11751842498779"
        ],
        [
         "877",
         "ALB",
         "BI.WAG.TOTL.GD.ZS",
         "2008",
         "6.16451740264893"
        ],
        [
         "878",
         "ALB",
         "BI.WAG.TOTL.GD.ZS",
         "2009",
         "5.45129871368408"
        ],
        [
         "879",
         "ALB",
         "BI.WAG.TOTL.GD.ZS",
         "2010",
         "5.30490779876709"
        ],
        [
         "880",
         "ALB",
         "BI.WAG.TOTL.GD.ZS",
         "2011",
         "5.18566417694092"
        ],
        [
         "881",
         "ALB",
         "BI.WAG.TOTL.GD.ZS",
         "2012",
         "5.20981550216675"
        ],
        [
         "882",
         "ALB",
         "BI.WAG.TOTL.GD.ZS",
         "2013",
         "5.23801803588867"
        ],
        [
         "883",
         "ALB",
         "BI.WAG.TOTL.GD.ZS",
         "2014",
         "5.11479663848877"
        ],
        [
         "884",
         "ALB",
         "BI.WAG.TOTL.GD.ZS",
         "2015",
         "5.05394077301025"
        ],
        [
         "885",
         "ALB",
         "BI.WAG.TOTL.GD.ZS",
         "2016",
         "4.58682250976563"
        ],
        [
         "886",
         "ALB",
         "BI.WAG.TOTL.GD.ZS",
         "2017",
         "4.68462705612183"
        ],
        [
         "887",
         "ALB",
         "BI.WAG.TOTL.GD.ZS",
         "2018",
         "4.49883127212524"
        ],
        [
         "888",
         "ALB",
         "BI.WAG.TOTL.GD.ZS",
         "2019",
         "4.58527708053589"
        ],
        [
         "889",
         "ALB",
         "BI.WAG.TOTL.GD.ZS",
         "2020",
         "4.68136024475098"
        ],
        [
         "938",
         "DZA",
         "BI.WAG.TOTL.GD.ZS",
         "2000",
         "6.81809186935425"
        ],
        [
         "939",
         "DZA",
         "BI.WAG.TOTL.GD.ZS",
         "2001",
         "7.46230268478394"
        ],
        [
         "940",
         "DZA",
         "BI.WAG.TOTL.GD.ZS",
         "2002",
         "7.51622867584229"
        ],
        [
         "941",
         "DZA",
         "BI.WAG.TOTL.GD.ZS",
         "2003",
         "7.47824764251709"
        ],
        [
         "942",
         "DZA",
         "BI.WAG.TOTL.GD.ZS",
         "2004",
         "7.19292211532593"
        ],
        [
         "943",
         "DZA",
         "BI.WAG.TOTL.GD.ZS",
         "2005",
         "6.48079872131348"
        ],
        [
         "944",
         "DZA",
         "BI.WAG.TOTL.GD.ZS",
         "2006",
         "6.24983263015747"
        ],
        [
         "945",
         "DZA",
         "BI.WAG.TOTL.GD.ZS",
         "2007",
         "6.72172164916992"
        ],
        [
         "946",
         "DZA",
         "BI.WAG.TOTL.GD.ZS",
         "2008",
         "7.48478984832764"
        ],
        [
         "947",
         "DZA",
         "BI.WAG.TOTL.GD.ZS",
         "2009",
         "8.82718467712402"
        ],
        [
         "948",
         "DZA",
         "BI.WAG.TOTL.GD.ZS",
         "2010",
         "9.94917774200439"
        ]
       ],
       "shape": {
        "columns": 4,
        "rows": 3656
       }
      },
      "text/html": [
       "<div>\n",
       "<style scoped>\n",
       "    .dataframe tbody tr th:only-of-type {\n",
       "        vertical-align: middle;\n",
       "    }\n",
       "\n",
       "    .dataframe tbody tr th {\n",
       "        vertical-align: top;\n",
       "    }\n",
       "\n",
       "    .dataframe thead th {\n",
       "        text-align: right;\n",
       "    }\n",
       "</style>\n",
       "<table border=\"1\" class=\"dataframe\">\n",
       "  <thead>\n",
       "    <tr style=\"text-align: right;\">\n",
       "      <th></th>\n",
       "      <th>country_code</th>\n",
       "      <th>indicator_code</th>\n",
       "      <th>year</th>\n",
       "      <th>value</th>\n",
       "    </tr>\n",
       "  </thead>\n",
       "  <tbody>\n",
       "    <tr>\n",
       "      <th>201</th>\n",
       "      <td>AFG</td>\n",
       "      <td>BI.WAG.TOTL.GD.ZS</td>\n",
       "      <td>2003</td>\n",
       "      <td>6.321759</td>\n",
       "    </tr>\n",
       "    <tr>\n",
       "      <th>202</th>\n",
       "      <td>AFG</td>\n",
       "      <td>BI.WAG.TOTL.GD.ZS</td>\n",
       "      <td>2004</td>\n",
       "      <td>7.283608</td>\n",
       "    </tr>\n",
       "    <tr>\n",
       "      <th>203</th>\n",
       "      <td>AFG</td>\n",
       "      <td>BI.WAG.TOTL.GD.ZS</td>\n",
       "      <td>2005</td>\n",
       "      <td>6.611046</td>\n",
       "    </tr>\n",
       "    <tr>\n",
       "      <th>204</th>\n",
       "      <td>AFG</td>\n",
       "      <td>BI.WAG.TOTL.GD.ZS</td>\n",
       "      <td>2006</td>\n",
       "      <td>7.071940</td>\n",
       "    </tr>\n",
       "    <tr>\n",
       "      <th>205</th>\n",
       "      <td>AFG</td>\n",
       "      <td>BI.WAG.TOTL.GD.ZS</td>\n",
       "      <td>2007</td>\n",
       "      <td>7.360051</td>\n",
       "    </tr>\n",
       "    <tr>\n",
       "      <th>...</th>\n",
       "      <td>...</td>\n",
       "      <td>...</td>\n",
       "      <td>...</td>\n",
       "      <td>...</td>\n",
       "    </tr>\n",
       "    <tr>\n",
       "      <th>141964</th>\n",
       "      <td>ZWE</td>\n",
       "      <td>BI.WAG.TOTL.GD.ZS</td>\n",
       "      <td>2016</td>\n",
       "      <td>13.232838</td>\n",
       "    </tr>\n",
       "    <tr>\n",
       "      <th>141965</th>\n",
       "      <td>ZWE</td>\n",
       "      <td>BI.WAG.TOTL.GD.ZS</td>\n",
       "      <td>2017</td>\n",
       "      <td>10.853515</td>\n",
       "    </tr>\n",
       "    <tr>\n",
       "      <th>141966</th>\n",
       "      <td>ZWE</td>\n",
       "      <td>BI.WAG.TOTL.GD.ZS</td>\n",
       "      <td>2018</td>\n",
       "      <td>7.866549</td>\n",
       "    </tr>\n",
       "    <tr>\n",
       "      <th>141967</th>\n",
       "      <td>ZWE</td>\n",
       "      <td>BI.WAG.TOTL.GD.ZS</td>\n",
       "      <td>2019</td>\n",
       "      <td>3.749973</td>\n",
       "    </tr>\n",
       "    <tr>\n",
       "      <th>141968</th>\n",
       "      <td>ZWE</td>\n",
       "      <td>BI.WAG.TOTL.GD.ZS</td>\n",
       "      <td>2020</td>\n",
       "      <td>6.440993</td>\n",
       "    </tr>\n",
       "  </tbody>\n",
       "</table>\n",
       "<p>3656 rows × 4 columns</p>\n",
       "</div>"
      ],
      "text/plain": [
       "       country_code     indicator_code  year      value\n",
       "201             AFG  BI.WAG.TOTL.GD.ZS  2003   6.321759\n",
       "202             AFG  BI.WAG.TOTL.GD.ZS  2004   7.283608\n",
       "203             AFG  BI.WAG.TOTL.GD.ZS  2005   6.611046\n",
       "204             AFG  BI.WAG.TOTL.GD.ZS  2006   7.071940\n",
       "205             AFG  BI.WAG.TOTL.GD.ZS  2007   7.360051\n",
       "...             ...                ...   ...        ...\n",
       "141964          ZWE  BI.WAG.TOTL.GD.ZS  2016  13.232838\n",
       "141965          ZWE  BI.WAG.TOTL.GD.ZS  2017  10.853515\n",
       "141966          ZWE  BI.WAG.TOTL.GD.ZS  2018   7.866549\n",
       "141967          ZWE  BI.WAG.TOTL.GD.ZS  2019   3.749973\n",
       "141968          ZWE  BI.WAG.TOTL.GD.ZS  2020   6.440993\n",
       "\n",
       "[3656 rows x 4 columns]"
      ]
     },
     "execution_count": 150,
     "metadata": {},
     "output_type": "execute_result"
    }
   ],
   "source": [
    "wwbi_data_wage = wwbi_data[wwbi_data['indicator_code'] == 'BI.WAG.TOTL.GD.ZS']\n",
    "wwbi_data_wage"
   ]
  },
  {
   "cell_type": "code",
   "execution_count": 151,
   "metadata": {},
   "outputs": [
    {
     "name": "stdout",
     "output_type": "stream",
     "text": [
      "Num of unique countries in wage data: 185\n"
     ]
    }
   ],
   "source": [
    "print(f\"Num of unique countries in wage data: {wwbi_data_wage['country_code'].nunique()}\") \n",
    "# -> different from country data, not all countries has data"
   ]
  },
  {
   "cell_type": "code",
   "execution_count": 152,
   "metadata": {},
   "outputs": [
    {
     "name": "stdout",
     "output_type": "stream",
     "text": [
      "Missing values in 'value' column: 0\n"
     ]
    }
   ],
   "source": [
    "missing_values = wwbi_data_wage['value'].isna().sum()\n",
    "print(f\"Missing values in 'value' column: {missing_values}\")\n",
    "# -> no need to handle missing values"
   ]
  },
  {
   "cell_type": "code",
   "execution_count": 153,
   "metadata": {},
   "outputs": [
    {
     "name": "stdout",
     "output_type": "stream",
     "text": [
      "Number of unique years: 21\n",
      "List of all years in dataset: [2000, 2001, 2002, 2003, 2004, 2005, 2006, 2007, 2008, 2009, 2010, 2011, 2012, 2013, 2014, 2015, 2016, 2017, 2018, 2019, 2020]\n"
     ]
    }
   ],
   "source": [
    "unique_years = wwbi_data_wage['year'].nunique()\n",
    "print(f\"Number of unique years: {unique_years}\")\n",
    "print(f\"List of all years in dataset: {sorted([int(year) for year in wwbi_data_wage['year'].unique()])}\")"
   ]
  },
  {
   "cell_type": "code",
   "execution_count": 154,
   "metadata": {},
   "outputs": [
    {
     "data": {
      "application/vnd.microsoft.datawrangler.viewer.v0+json": {
       "columns": [
        {
         "name": "index",
         "rawType": "int64",
         "type": "integer"
        },
        {
         "name": "country_code",
         "rawType": "object",
         "type": "string"
        },
        {
         "name": "num_years_available",
         "rawType": "int64",
         "type": "integer"
        }
       ],
       "conversionMethod": "pd.DataFrame",
       "ref": "abd1b3a4-e0ef-44a7-abd1-da4d442f8449",
       "rows": [
        [
         "0",
         "ABW",
         "21"
        ],
        [
         "120",
         "NER",
         "21"
        ],
        [
         "107",
         "MHL",
         "21"
        ],
        [
         "109",
         "MLI",
         "21"
        ],
        [
         "110",
         "MLT",
         "21"
        ],
        [
         "111",
         "MMR",
         "21"
        ],
        [
         "114",
         "MOZ",
         "21"
        ],
        [
         "118",
         "MYS",
         "21"
        ],
        [
         "119",
         "NAM",
         "21"
        ],
        [
         "122",
         "NIC",
         "21"
        ],
        [
         "76",
         "IRN",
         "21"
        ],
        [
         "123",
         "NLD",
         "21"
        ],
        [
         "124",
         "NOR",
         "21"
        ],
        [
         "125",
         "NPL",
         "21"
        ],
        [
         "128",
         "OMN",
         "21"
        ],
        [
         "129",
         "PAN",
         "21"
        ],
        [
         "130",
         "PER",
         "21"
        ],
        [
         "131",
         "PHL",
         "21"
        ],
        [
         "105",
         "MDV",
         "21"
        ],
        [
         "104",
         "MDG",
         "21"
        ],
        [
         "103",
         "MDA",
         "21"
        ],
        [
         "102",
         "MAR",
         "21"
        ],
        [
         "79",
         "ISR",
         "21"
        ],
        [
         "80",
         "ITA",
         "21"
        ],
        [
         "81",
         "JAM",
         "21"
        ],
        [
         "82",
         "JOR",
         "21"
        ],
        [
         "84",
         "KAZ",
         "21"
        ],
        [
         "85",
         "KEN",
         "21"
        ],
        [
         "86",
         "KGZ",
         "21"
        ],
        [
         "89",
         "KNA",
         "21"
        ],
        [
         "91",
         "KWT",
         "21"
        ],
        [
         "93",
         "LBN",
         "21"
        ],
        [
         "94",
         "LBR",
         "21"
        ],
        [
         "96",
         "LCA",
         "21"
        ],
        [
         "97",
         "LSO",
         "21"
        ],
        [
         "98",
         "LTU",
         "21"
        ],
        [
         "99",
         "LUX",
         "21"
        ],
        [
         "134",
         "POL",
         "21"
        ],
        [
         "135",
         "PRT",
         "21"
        ],
        [
         "137",
         "QAT",
         "21"
        ],
        [
         "161",
         "TJK",
         "21"
        ],
        [
         "165",
         "TTO",
         "21"
        ],
        [
         "166",
         "TUN",
         "21"
        ],
        [
         "167",
         "TUR",
         "21"
        ],
        [
         "169",
         "TZA",
         "21"
        ],
        [
         "170",
         "UGA",
         "21"
        ],
        [
         "171",
         "UKR",
         "21"
        ],
        [
         "172",
         "URY",
         "21"
        ],
        [
         "173",
         "USA",
         "21"
        ],
        [
         "175",
         "VCT",
         "21"
        ]
       ],
       "shape": {
        "columns": 2,
        "rows": 185
       }
      },
      "text/html": [
       "<div>\n",
       "<style scoped>\n",
       "    .dataframe tbody tr th:only-of-type {\n",
       "        vertical-align: middle;\n",
       "    }\n",
       "\n",
       "    .dataframe tbody tr th {\n",
       "        vertical-align: top;\n",
       "    }\n",
       "\n",
       "    .dataframe thead th {\n",
       "        text-align: right;\n",
       "    }\n",
       "</style>\n",
       "<table border=\"1\" class=\"dataframe\">\n",
       "  <thead>\n",
       "    <tr style=\"text-align: right;\">\n",
       "      <th></th>\n",
       "      <th>country_code</th>\n",
       "      <th>num_years_available</th>\n",
       "    </tr>\n",
       "  </thead>\n",
       "  <tbody>\n",
       "    <tr>\n",
       "      <th>0</th>\n",
       "      <td>ABW</td>\n",
       "      <td>21</td>\n",
       "    </tr>\n",
       "    <tr>\n",
       "      <th>120</th>\n",
       "      <td>NER</td>\n",
       "      <td>21</td>\n",
       "    </tr>\n",
       "    <tr>\n",
       "      <th>107</th>\n",
       "      <td>MHL</td>\n",
       "      <td>21</td>\n",
       "    </tr>\n",
       "    <tr>\n",
       "      <th>109</th>\n",
       "      <td>MLI</td>\n",
       "      <td>21</td>\n",
       "    </tr>\n",
       "    <tr>\n",
       "      <th>110</th>\n",
       "      <td>MLT</td>\n",
       "      <td>21</td>\n",
       "    </tr>\n",
       "    <tr>\n",
       "      <th>...</th>\n",
       "      <td>...</td>\n",
       "      <td>...</td>\n",
       "    </tr>\n",
       "    <tr>\n",
       "      <th>133</th>\n",
       "      <td>PNG</td>\n",
       "      <td>9</td>\n",
       "    </tr>\n",
       "    <tr>\n",
       "      <th>108</th>\n",
       "      <td>MKD</td>\n",
       "      <td>8</td>\n",
       "    </tr>\n",
       "    <tr>\n",
       "      <th>147</th>\n",
       "      <td>SOM</td>\n",
       "      <td>8</td>\n",
       "    </tr>\n",
       "    <tr>\n",
       "      <th>177</th>\n",
       "      <td>VNM</td>\n",
       "      <td>5</td>\n",
       "    </tr>\n",
       "    <tr>\n",
       "      <th>174</th>\n",
       "      <td>UZB</td>\n",
       "      <td>4</td>\n",
       "    </tr>\n",
       "  </tbody>\n",
       "</table>\n",
       "<p>185 rows × 2 columns</p>\n",
       "</div>"
      ],
      "text/plain": [
       "    country_code  num_years_available\n",
       "0            ABW                   21\n",
       "120          NER                   21\n",
       "107          MHL                   21\n",
       "109          MLI                   21\n",
       "110          MLT                   21\n",
       "..           ...                  ...\n",
       "133          PNG                    9\n",
       "108          MKD                    8\n",
       "147          SOM                    8\n",
       "177          VNM                    5\n",
       "174          UZB                    4\n",
       "\n",
       "[185 rows x 2 columns]"
      ]
     },
     "execution_count": 154,
     "metadata": {},
     "output_type": "execute_result"
    }
   ],
   "source": [
    "years_per_country = wwbi_data_wage.groupby('country_code')['year'].nunique().reset_index()\n",
    "years_per_country.columns = ['country_code', 'num_years_available']\n",
    "years_per_country = years_per_country.sort_values('num_years_available', ascending=False)\n",
    "years_per_country"
   ]
  },
  {
   "cell_type": "code",
   "execution_count": 155,
   "metadata": {},
   "outputs": [
    {
     "name": "stdout",
     "output_type": "stream",
     "text": [
      "Total countries: 185\n",
      "Mean years available: 19.8\n",
      "Median years available: 21.0\n",
      "Min years available: 4\n",
      "Max years available: 21\n",
      "Countries with data for all years: 144\n"
     ]
    }
   ],
   "source": [
    "print(f\"Total countries: {len(years_per_country)}\")\n",
    "print(f\"Mean years available: {years_per_country['num_years_available'].mean():.1f}\")\n",
    "print(f\"Median years available: {years_per_country['num_years_available'].median():.1f}\")\n",
    "print(f\"Min years available: {years_per_country['num_years_available'].min()}\")\n",
    "print(f\"Max years available: {years_per_country['num_years_available'].max()}\")\n",
    "countries_all_years = years_per_country[years_per_country['num_years_available'] == unique_years]\n",
    "print(f\"Countries with data for all years: {len(countries_all_years)}\")"
   ]
  },
  {
   "cell_type": "markdown",
   "metadata": {},
   "source": [
    "**Insights**\n",
    "- There exists 41 countries do not have data for all years from 2000-2020. Mean availability is 19.8 years, relatively high -> good\n",
    "- Maybe consider dropping countries with <10 years, but need to inspect more with combination of income group and regions\n"
   ]
  },
  {
   "cell_type": "markdown",
   "metadata": {},
   "source": [
    "## Merge data"
   ]
  },
  {
   "cell_type": "code",
   "execution_count": 156,
   "metadata": {},
   "outputs": [
    {
     "data": {
      "application/vnd.microsoft.datawrangler.viewer.v0+json": {
       "columns": [
        {
         "name": "index",
         "rawType": "int64",
         "type": "integer"
        },
        {
         "name": "country_code",
         "rawType": "object",
         "type": "string"
        },
        {
         "name": "short_name",
         "rawType": "object",
         "type": "string"
        },
        {
         "name": "region",
         "rawType": "object",
         "type": "string"
        },
        {
         "name": "income_group",
         "rawType": "object",
         "type": "string"
        }
       ],
       "conversionMethod": "pd.DataFrame",
       "ref": "33752d1a-5075-43ba-b1fc-840a74b75f39",
       "rows": [
        [
         "0",
         "ABW",
         "Aruba",
         "Latin America & Caribbean",
         "High income"
        ],
        [
         "1",
         "AFG",
         "Afghanistan",
         "South Asia",
         "Low income"
        ],
        [
         "2",
         "AGO",
         "Angola",
         "Sub-Saharan Africa",
         "Lower middle income"
        ],
        [
         "4",
         "ALB",
         "Albania",
         "Europe & Central Asia",
         "Upper middle income"
        ],
        [
         "5",
         "ARE",
         "United Arab Emirates",
         "Middle East & North Africa",
         "High income"
        ],
        [
         "6",
         "ARG",
         "Argentina",
         "Latin America & Caribbean",
         "Upper middle income"
        ],
        [
         "7",
         "ARM",
         "Armenia",
         "Europe & Central Asia",
         "Upper middle income"
        ],
        [
         "8",
         "ATG",
         "Antigua and Barbuda",
         "Latin America & Caribbean",
         "High income"
        ],
        [
         "9",
         "AUS",
         "Australia",
         "East Asia & Pacific",
         "High income"
        ],
        [
         "10",
         "AUT",
         "Austria",
         "Europe & Central Asia",
         "High income"
        ],
        [
         "11",
         "AZE",
         "Azerbaijan",
         "Europe & Central Asia",
         "Upper middle income"
        ],
        [
         "12",
         "BDI",
         "Burundi",
         "Sub-Saharan Africa",
         "Low income"
        ],
        [
         "13",
         "BEL",
         "Belgium",
         "Europe & Central Asia",
         "High income"
        ],
        [
         "14",
         "BEN",
         "Benin",
         "Sub-Saharan Africa",
         "Lower middle income"
        ],
        [
         "15",
         "BFA",
         "Burkina Faso",
         "Sub-Saharan Africa",
         "Low income"
        ],
        [
         "16",
         "BGD",
         "Bangladesh",
         "South Asia",
         "Lower middle income"
        ],
        [
         "17",
         "BGR",
         "Bulgaria",
         "Europe & Central Asia",
         "Upper middle income"
        ],
        [
         "18",
         "BHR",
         "Bahrain",
         "Middle East & North Africa",
         "High income"
        ],
        [
         "19",
         "BHS",
         "The Bahamas",
         "Latin America & Caribbean",
         "High income"
        ],
        [
         "20",
         "BIH",
         "Bosnia and Herzegovina",
         "Europe & Central Asia",
         "Upper middle income"
        ],
        [
         "21",
         "BLR",
         "Belarus",
         "Europe & Central Asia",
         "Upper middle income"
        ],
        [
         "22",
         "BLZ",
         "Belize",
         "Latin America & Caribbean",
         "Upper middle income"
        ],
        [
         "23",
         "BMU",
         "Bermuda",
         "North America",
         "High income"
        ],
        [
         "24",
         "BOL",
         "Bolivia",
         "Latin America & Caribbean",
         "Lower middle income"
        ],
        [
         "25",
         "BRA",
         "Brazil",
         "Latin America & Caribbean",
         "Upper middle income"
        ],
        [
         "26",
         "BRB",
         "Barbados",
         "Latin America & Caribbean",
         "High income"
        ],
        [
         "27",
         "BRN",
         "Brunei",
         "East Asia & Pacific",
         "High income"
        ],
        [
         "28",
         "BTN",
         "Bhutan",
         "South Asia",
         "Lower middle income"
        ],
        [
         "29",
         "BWA",
         "Botswana",
         "Sub-Saharan Africa",
         "Upper middle income"
        ],
        [
         "30",
         "CAF",
         "Central African Republic",
         "Sub-Saharan Africa",
         "Low income"
        ],
        [
         "31",
         "CAN",
         "Canada",
         "North America",
         "High income"
        ],
        [
         "32",
         "CHE",
         "Switzerland",
         "Europe & Central Asia",
         "High income"
        ],
        [
         "33",
         "CHL",
         "Chile",
         "Latin America & Caribbean",
         "High income"
        ],
        [
         "34",
         "CHN",
         "China",
         "East Asia & Pacific",
         "Upper middle income"
        ],
        [
         "35",
         "CIV",
         "Côte d'Ivoire",
         "Sub-Saharan Africa",
         "Lower middle income"
        ],
        [
         "36",
         "CMR",
         "Cameroon",
         "Sub-Saharan Africa",
         "Lower middle income"
        ],
        [
         "37",
         "COD",
         "Dem. Rep. Congo",
         "Sub-Saharan Africa",
         "Low income"
        ],
        [
         "38",
         "COG",
         "Congo",
         "Sub-Saharan Africa",
         "Lower middle income"
        ],
        [
         "39",
         "COL",
         "Colombia",
         "Latin America & Caribbean",
         "Upper middle income"
        ],
        [
         "40",
         "COM",
         "Comoros",
         "Sub-Saharan Africa",
         "Lower middle income"
        ],
        [
         "41",
         "CPV",
         "Cabo Verde",
         "Sub-Saharan Africa",
         "Lower middle income"
        ],
        [
         "42",
         "CRI",
         "Costa Rica",
         "Latin America & Caribbean",
         "Upper middle income"
        ],
        [
         "43",
         "CUW",
         "Curaçao",
         "Latin America & Caribbean",
         "High income"
        ],
        [
         "44",
         "CYM",
         "Cayman Islands",
         "Latin America & Caribbean",
         "High income"
        ],
        [
         "45",
         "CYP",
         "Cyprus",
         "Europe & Central Asia",
         "High income"
        ],
        [
         "46",
         "CZE",
         "Czech Republic",
         "Europe & Central Asia",
         "High income"
        ],
        [
         "47",
         "DEU",
         "Germany",
         "Europe & Central Asia",
         "High income"
        ],
        [
         "48",
         "DJI",
         "Djibouti",
         "Middle East & North Africa",
         "Lower middle income"
        ],
        [
         "49",
         "DMA",
         "Dominica",
         "Latin America & Caribbean",
         "Upper middle income"
        ],
        [
         "50",
         "DNK",
         "Denmark",
         "Europe & Central Asia",
         "High income"
        ]
       ],
       "shape": {
        "columns": 4,
        "rows": 199
       }
      },
      "text/html": [
       "<div>\n",
       "<style scoped>\n",
       "    .dataframe tbody tr th:only-of-type {\n",
       "        vertical-align: middle;\n",
       "    }\n",
       "\n",
       "    .dataframe tbody tr th {\n",
       "        vertical-align: top;\n",
       "    }\n",
       "\n",
       "    .dataframe thead th {\n",
       "        text-align: right;\n",
       "    }\n",
       "</style>\n",
       "<table border=\"1\" class=\"dataframe\">\n",
       "  <thead>\n",
       "    <tr style=\"text-align: right;\">\n",
       "      <th></th>\n",
       "      <th>country_code</th>\n",
       "      <th>short_name</th>\n",
       "      <th>region</th>\n",
       "      <th>income_group</th>\n",
       "    </tr>\n",
       "  </thead>\n",
       "  <tbody>\n",
       "    <tr>\n",
       "      <th>0</th>\n",
       "      <td>ABW</td>\n",
       "      <td>Aruba</td>\n",
       "      <td>Latin America &amp; Caribbean</td>\n",
       "      <td>High income</td>\n",
       "    </tr>\n",
       "    <tr>\n",
       "      <th>1</th>\n",
       "      <td>AFG</td>\n",
       "      <td>Afghanistan</td>\n",
       "      <td>South Asia</td>\n",
       "      <td>Low income</td>\n",
       "    </tr>\n",
       "    <tr>\n",
       "      <th>2</th>\n",
       "      <td>AGO</td>\n",
       "      <td>Angola</td>\n",
       "      <td>Sub-Saharan Africa</td>\n",
       "      <td>Lower middle income</td>\n",
       "    </tr>\n",
       "    <tr>\n",
       "      <th>4</th>\n",
       "      <td>ALB</td>\n",
       "      <td>Albania</td>\n",
       "      <td>Europe &amp; Central Asia</td>\n",
       "      <td>Upper middle income</td>\n",
       "    </tr>\n",
       "    <tr>\n",
       "      <th>5</th>\n",
       "      <td>ARE</td>\n",
       "      <td>United Arab Emirates</td>\n",
       "      <td>Middle East &amp; North Africa</td>\n",
       "      <td>High income</td>\n",
       "    </tr>\n",
       "    <tr>\n",
       "      <th>...</th>\n",
       "      <td>...</td>\n",
       "      <td>...</td>\n",
       "      <td>...</td>\n",
       "      <td>...</td>\n",
       "    </tr>\n",
       "    <tr>\n",
       "      <th>197</th>\n",
       "      <td>XKX</td>\n",
       "      <td>Kosovo</td>\n",
       "      <td>Europe &amp; Central Asia</td>\n",
       "      <td>Upper middle income</td>\n",
       "    </tr>\n",
       "    <tr>\n",
       "      <th>198</th>\n",
       "      <td>YEM</td>\n",
       "      <td>Yemen</td>\n",
       "      <td>Middle East &amp; North Africa</td>\n",
       "      <td>Low income</td>\n",
       "    </tr>\n",
       "    <tr>\n",
       "      <th>199</th>\n",
       "      <td>ZAF</td>\n",
       "      <td>South Africa</td>\n",
       "      <td>Sub-Saharan Africa</td>\n",
       "      <td>Upper middle income</td>\n",
       "    </tr>\n",
       "    <tr>\n",
       "      <th>200</th>\n",
       "      <td>ZMB</td>\n",
       "      <td>Zambia</td>\n",
       "      <td>Sub-Saharan Africa</td>\n",
       "      <td>Low income</td>\n",
       "    </tr>\n",
       "    <tr>\n",
       "      <th>201</th>\n",
       "      <td>ZWE</td>\n",
       "      <td>Zimbabwe</td>\n",
       "      <td>Sub-Saharan Africa</td>\n",
       "      <td>Lower middle income</td>\n",
       "    </tr>\n",
       "  </tbody>\n",
       "</table>\n",
       "<p>199 rows × 4 columns</p>\n",
       "</div>"
      ],
      "text/plain": [
       "    country_code            short_name                      region  \\\n",
       "0            ABW                 Aruba   Latin America & Caribbean   \n",
       "1            AFG           Afghanistan                  South Asia   \n",
       "2            AGO                Angola          Sub-Saharan Africa   \n",
       "4            ALB               Albania       Europe & Central Asia   \n",
       "5            ARE  United Arab Emirates  Middle East & North Africa   \n",
       "..           ...                   ...                         ...   \n",
       "197          XKX                Kosovo       Europe & Central Asia   \n",
       "198          YEM                 Yemen  Middle East & North Africa   \n",
       "199          ZAF          South Africa          Sub-Saharan Africa   \n",
       "200          ZMB                Zambia          Sub-Saharan Africa   \n",
       "201          ZWE              Zimbabwe          Sub-Saharan Africa   \n",
       "\n",
       "            income_group  \n",
       "0            High income  \n",
       "1             Low income  \n",
       "2    Lower middle income  \n",
       "4    Upper middle income  \n",
       "5            High income  \n",
       "..                   ...  \n",
       "197  Upper middle income  \n",
       "198           Low income  \n",
       "199  Upper middle income  \n",
       "200           Low income  \n",
       "201  Lower middle income  \n",
       "\n",
       "[199 rows x 4 columns]"
      ]
     },
     "execution_count": 156,
     "metadata": {},
     "output_type": "execute_result"
    }
   ],
   "source": [
    "# Drop country with missing regions and income groups in wwbi_country_wage\n",
    "wwbi_country_wage = wwbi_country_wage.dropna(subset=['region', 'income_group'])\n",
    "wwbi_country_wage"
   ]
  },
  {
   "cell_type": "code",
   "execution_count": 157,
   "metadata": {},
   "outputs": [
    {
     "data": {
      "application/vnd.microsoft.datawrangler.viewer.v0+json": {
       "columns": [
        {
         "name": "index",
         "rawType": "int64",
         "type": "integer"
        },
        {
         "name": "country_code",
         "rawType": "object",
         "type": "string"
        },
        {
         "name": "short_name",
         "rawType": "object",
         "type": "string"
        },
        {
         "name": "region",
         "rawType": "object",
         "type": "string"
        },
        {
         "name": "income_group",
         "rawType": "object",
         "type": "string"
        },
        {
         "name": "indicator_code",
         "rawType": "object",
         "type": "string"
        },
        {
         "name": "year",
         "rawType": "int64",
         "type": "integer"
        },
        {
         "name": "value",
         "rawType": "float64",
         "type": "float"
        }
       ],
       "conversionMethod": "pd.DataFrame",
       "ref": "1d271465-e5af-46e4-9f0e-7f7310c3738b",
       "rows": [
        [
         "0",
         "ABW",
         "Aruba",
         "Latin America & Caribbean",
         "High income",
         "BI.WAG.TOTL.GD.ZS",
         "2000",
         "8.50310707092285"
        ],
        [
         "1",
         "ABW",
         "Aruba",
         "Latin America & Caribbean",
         "High income",
         "BI.WAG.TOTL.GD.ZS",
         "2001",
         "8.23028469085693"
        ],
        [
         "2",
         "ABW",
         "Aruba",
         "Latin America & Caribbean",
         "High income",
         "BI.WAG.TOTL.GD.ZS",
         "2002",
         "9.33080863952637"
        ],
        [
         "3",
         "ABW",
         "Aruba",
         "Latin America & Caribbean",
         "High income",
         "BI.WAG.TOTL.GD.ZS",
         "2003",
         "9.07088375091553"
        ],
        [
         "4",
         "ABW",
         "Aruba",
         "Latin America & Caribbean",
         "High income",
         "BI.WAG.TOTL.GD.ZS",
         "2004",
         "10.9910020828247"
        ],
        [
         "5",
         "ABW",
         "Aruba",
         "Latin America & Caribbean",
         "High income",
         "BI.WAG.TOTL.GD.ZS",
         "2005",
         "8.75881290435791"
        ],
        [
         "6",
         "ABW",
         "Aruba",
         "Latin America & Caribbean",
         "High income",
         "BI.WAG.TOTL.GD.ZS",
         "2006",
         "9.08296966552734"
        ],
        [
         "7",
         "ABW",
         "Aruba",
         "Latin America & Caribbean",
         "High income",
         "BI.WAG.TOTL.GD.ZS",
         "2007",
         "8.09621906280518"
        ],
        [
         "8",
         "ABW",
         "Aruba",
         "Latin America & Caribbean",
         "High income",
         "BI.WAG.TOTL.GD.ZS",
         "2008",
         "8.48547458648682"
        ],
        [
         "9",
         "ABW",
         "Aruba",
         "Latin America & Caribbean",
         "High income",
         "BI.WAG.TOTL.GD.ZS",
         "2009",
         "9.30678272247314"
        ],
        [
         "10",
         "ABW",
         "Aruba",
         "Latin America & Caribbean",
         "High income",
         "BI.WAG.TOTL.GD.ZS",
         "2010",
         "10.1144323348999"
        ],
        [
         "11",
         "ABW",
         "Aruba",
         "Latin America & Caribbean",
         "High income",
         "BI.WAG.TOTL.GD.ZS",
         "2011",
         "9.92614841461182"
        ],
        [
         "12",
         "ABW",
         "Aruba",
         "Latin America & Caribbean",
         "High income",
         "BI.WAG.TOTL.GD.ZS",
         "2012",
         "11.1188936233521"
        ],
        [
         "13",
         "ABW",
         "Aruba",
         "Latin America & Caribbean",
         "High income",
         "BI.WAG.TOTL.GD.ZS",
         "2013",
         "10.7826347351074"
        ],
        [
         "14",
         "ABW",
         "Aruba",
         "Latin America & Caribbean",
         "High income",
         "BI.WAG.TOTL.GD.ZS",
         "2014",
         "9.62443065643311"
        ],
        [
         "15",
         "ABW",
         "Aruba",
         "Latin America & Caribbean",
         "High income",
         "BI.WAG.TOTL.GD.ZS",
         "2015",
         "8.80431652069092"
        ],
        [
         "16",
         "ABW",
         "Aruba",
         "Latin America & Caribbean",
         "High income",
         "BI.WAG.TOTL.GD.ZS",
         "2016",
         "8.67981243133545"
        ],
        [
         "17",
         "ABW",
         "Aruba",
         "Latin America & Caribbean",
         "High income",
         "BI.WAG.TOTL.GD.ZS",
         "2017",
         "8.56493854522705"
        ],
        [
         "18",
         "ABW",
         "Aruba",
         "Latin America & Caribbean",
         "High income",
         "BI.WAG.TOTL.GD.ZS",
         "2018",
         "8.31208515167236"
        ],
        [
         "19",
         "ABW",
         "Aruba",
         "Latin America & Caribbean",
         "High income",
         "BI.WAG.TOTL.GD.ZS",
         "2019",
         "7.94261455535889"
        ],
        [
         "20",
         "ABW",
         "Aruba",
         "Latin America & Caribbean",
         "High income",
         "BI.WAG.TOTL.GD.ZS",
         "2020",
         "9.72281646728516"
        ],
        [
         "21",
         "AFG",
         "Afghanistan",
         "South Asia",
         "Low income",
         "BI.WAG.TOTL.GD.ZS",
         "2003",
         "6.32175874710083"
        ],
        [
         "22",
         "AFG",
         "Afghanistan",
         "South Asia",
         "Low income",
         "BI.WAG.TOTL.GD.ZS",
         "2004",
         "7.28360843658447"
        ],
        [
         "23",
         "AFG",
         "Afghanistan",
         "South Asia",
         "Low income",
         "BI.WAG.TOTL.GD.ZS",
         "2005",
         "6.61104583740234"
        ],
        [
         "24",
         "AFG",
         "Afghanistan",
         "South Asia",
         "Low income",
         "BI.WAG.TOTL.GD.ZS",
         "2006",
         "7.07193994522095"
        ],
        [
         "25",
         "AFG",
         "Afghanistan",
         "South Asia",
         "Low income",
         "BI.WAG.TOTL.GD.ZS",
         "2007",
         "7.36005115509033"
        ],
        [
         "26",
         "AFG",
         "Afghanistan",
         "South Asia",
         "Low income",
         "BI.WAG.TOTL.GD.ZS",
         "2008",
         "8.24335098266602"
        ],
        [
         "27",
         "AFG",
         "Afghanistan",
         "South Asia",
         "Low income",
         "BI.WAG.TOTL.GD.ZS",
         "2009",
         "9.4302225112915"
        ],
        [
         "28",
         "AFG",
         "Afghanistan",
         "South Asia",
         "Low income",
         "BI.WAG.TOTL.GD.ZS",
         "2010",
         "11.2864961624146"
        ],
        [
         "29",
         "AFG",
         "Afghanistan",
         "South Asia",
         "Low income",
         "BI.WAG.TOTL.GD.ZS",
         "2011",
         "12.5191402435303"
        ],
        [
         "30",
         "AFG",
         "Afghanistan",
         "South Asia",
         "Low income",
         "BI.WAG.TOTL.GD.ZS",
         "2012",
         "12.9225921630859"
        ],
        [
         "31",
         "AFG",
         "Afghanistan",
         "South Asia",
         "Low income",
         "BI.WAG.TOTL.GD.ZS",
         "2013",
         "12.4895076751709"
        ],
        [
         "32",
         "AFG",
         "Afghanistan",
         "South Asia",
         "Low income",
         "BI.WAG.TOTL.GD.ZS",
         "2014",
         "12.6939010620117"
        ],
        [
         "33",
         "AFG",
         "Afghanistan",
         "South Asia",
         "Low income",
         "BI.WAG.TOTL.GD.ZS",
         "2015",
         "12.4141006469727"
        ],
        [
         "34",
         "AFG",
         "Afghanistan",
         "South Asia",
         "Low income",
         "BI.WAG.TOTL.GD.ZS",
         "2016",
         "13.4530191421509"
        ],
        [
         "35",
         "AFG",
         "Afghanistan",
         "South Asia",
         "Low income",
         "BI.WAG.TOTL.GD.ZS",
         "2017",
         "13.5513114929199"
        ],
        [
         "36",
         "AFG",
         "Afghanistan",
         "South Asia",
         "Low income",
         "BI.WAG.TOTL.GD.ZS",
         "2018",
         "13.8302965164185"
        ],
        [
         "37",
         "AFG",
         "Afghanistan",
         "South Asia",
         "Low income",
         "BI.WAG.TOTL.GD.ZS",
         "2019",
         "13.4368333816528"
        ],
        [
         "38",
         "AFG",
         "Afghanistan",
         "South Asia",
         "Low income",
         "BI.WAG.TOTL.GD.ZS",
         "2020",
         "13.4366617202759"
        ],
        [
         "39",
         "AGO",
         "Angola",
         "Sub-Saharan Africa",
         "Lower middle income",
         "BI.WAG.TOTL.GD.ZS",
         "2000",
         "4.71031522750854"
        ],
        [
         "40",
         "AGO",
         "Angola",
         "Sub-Saharan Africa",
         "Lower middle income",
         "BI.WAG.TOTL.GD.ZS",
         "2001",
         "6.63127994537354"
        ],
        [
         "41",
         "AGO",
         "Angola",
         "Sub-Saharan Africa",
         "Lower middle income",
         "BI.WAG.TOTL.GD.ZS",
         "2002",
         "7.99176502227783"
        ],
        [
         "42",
         "AGO",
         "Angola",
         "Sub-Saharan Africa",
         "Lower middle income",
         "BI.WAG.TOTL.GD.ZS",
         "2003",
         "9.70741939544678"
        ],
        [
         "43",
         "AGO",
         "Angola",
         "Sub-Saharan Africa",
         "Lower middle income",
         "BI.WAG.TOTL.GD.ZS",
         "2004",
         "8.66155338287354"
        ],
        [
         "44",
         "AGO",
         "Angola",
         "Sub-Saharan Africa",
         "Lower middle income",
         "BI.WAG.TOTL.GD.ZS",
         "2005",
         "7.65572023391724"
        ],
        [
         "45",
         "AGO",
         "Angola",
         "Sub-Saharan Africa",
         "Lower middle income",
         "BI.WAG.TOTL.GD.ZS",
         "2006",
         "7.39451694488525"
        ],
        [
         "46",
         "AGO",
         "Angola",
         "Sub-Saharan Africa",
         "Lower middle income",
         "BI.WAG.TOTL.GD.ZS",
         "2007",
         "7.28077507019043"
        ],
        [
         "47",
         "AGO",
         "Angola",
         "Sub-Saharan Africa",
         "Lower middle income",
         "BI.WAG.TOTL.GD.ZS",
         "2008",
         "8.17358303070068"
        ],
        [
         "48",
         "AGO",
         "Angola",
         "Sub-Saharan Africa",
         "Lower middle income",
         "BI.WAG.TOTL.GD.ZS",
         "2009",
         "11.9232454299927"
        ],
        [
         "49",
         "AGO",
         "Angola",
         "Sub-Saharan Africa",
         "Lower middle income",
         "BI.WAG.TOTL.GD.ZS",
         "2010",
         "9.26761150360107"
        ]
       ],
       "shape": {
        "columns": 7,
        "rows": 3635
       }
      },
      "text/html": [
       "<div>\n",
       "<style scoped>\n",
       "    .dataframe tbody tr th:only-of-type {\n",
       "        vertical-align: middle;\n",
       "    }\n",
       "\n",
       "    .dataframe tbody tr th {\n",
       "        vertical-align: top;\n",
       "    }\n",
       "\n",
       "    .dataframe thead th {\n",
       "        text-align: right;\n",
       "    }\n",
       "</style>\n",
       "<table border=\"1\" class=\"dataframe\">\n",
       "  <thead>\n",
       "    <tr style=\"text-align: right;\">\n",
       "      <th></th>\n",
       "      <th>country_code</th>\n",
       "      <th>short_name</th>\n",
       "      <th>region</th>\n",
       "      <th>income_group</th>\n",
       "      <th>indicator_code</th>\n",
       "      <th>year</th>\n",
       "      <th>value</th>\n",
       "    </tr>\n",
       "  </thead>\n",
       "  <tbody>\n",
       "    <tr>\n",
       "      <th>0</th>\n",
       "      <td>ABW</td>\n",
       "      <td>Aruba</td>\n",
       "      <td>Latin America &amp; Caribbean</td>\n",
       "      <td>High income</td>\n",
       "      <td>BI.WAG.TOTL.GD.ZS</td>\n",
       "      <td>2000</td>\n",
       "      <td>8.503107</td>\n",
       "    </tr>\n",
       "    <tr>\n",
       "      <th>1</th>\n",
       "      <td>ABW</td>\n",
       "      <td>Aruba</td>\n",
       "      <td>Latin America &amp; Caribbean</td>\n",
       "      <td>High income</td>\n",
       "      <td>BI.WAG.TOTL.GD.ZS</td>\n",
       "      <td>2001</td>\n",
       "      <td>8.230285</td>\n",
       "    </tr>\n",
       "    <tr>\n",
       "      <th>2</th>\n",
       "      <td>ABW</td>\n",
       "      <td>Aruba</td>\n",
       "      <td>Latin America &amp; Caribbean</td>\n",
       "      <td>High income</td>\n",
       "      <td>BI.WAG.TOTL.GD.ZS</td>\n",
       "      <td>2002</td>\n",
       "      <td>9.330809</td>\n",
       "    </tr>\n",
       "    <tr>\n",
       "      <th>3</th>\n",
       "      <td>ABW</td>\n",
       "      <td>Aruba</td>\n",
       "      <td>Latin America &amp; Caribbean</td>\n",
       "      <td>High income</td>\n",
       "      <td>BI.WAG.TOTL.GD.ZS</td>\n",
       "      <td>2003</td>\n",
       "      <td>9.070884</td>\n",
       "    </tr>\n",
       "    <tr>\n",
       "      <th>4</th>\n",
       "      <td>ABW</td>\n",
       "      <td>Aruba</td>\n",
       "      <td>Latin America &amp; Caribbean</td>\n",
       "      <td>High income</td>\n",
       "      <td>BI.WAG.TOTL.GD.ZS</td>\n",
       "      <td>2004</td>\n",
       "      <td>10.991002</td>\n",
       "    </tr>\n",
       "    <tr>\n",
       "      <th>...</th>\n",
       "      <td>...</td>\n",
       "      <td>...</td>\n",
       "      <td>...</td>\n",
       "      <td>...</td>\n",
       "      <td>...</td>\n",
       "      <td>...</td>\n",
       "      <td>...</td>\n",
       "    </tr>\n",
       "    <tr>\n",
       "      <th>3630</th>\n",
       "      <td>ZWE</td>\n",
       "      <td>Zimbabwe</td>\n",
       "      <td>Sub-Saharan Africa</td>\n",
       "      <td>Lower middle income</td>\n",
       "      <td>BI.WAG.TOTL.GD.ZS</td>\n",
       "      <td>2016</td>\n",
       "      <td>13.232838</td>\n",
       "    </tr>\n",
       "    <tr>\n",
       "      <th>3631</th>\n",
       "      <td>ZWE</td>\n",
       "      <td>Zimbabwe</td>\n",
       "      <td>Sub-Saharan Africa</td>\n",
       "      <td>Lower middle income</td>\n",
       "      <td>BI.WAG.TOTL.GD.ZS</td>\n",
       "      <td>2017</td>\n",
       "      <td>10.853515</td>\n",
       "    </tr>\n",
       "    <tr>\n",
       "      <th>3632</th>\n",
       "      <td>ZWE</td>\n",
       "      <td>Zimbabwe</td>\n",
       "      <td>Sub-Saharan Africa</td>\n",
       "      <td>Lower middle income</td>\n",
       "      <td>BI.WAG.TOTL.GD.ZS</td>\n",
       "      <td>2018</td>\n",
       "      <td>7.866549</td>\n",
       "    </tr>\n",
       "    <tr>\n",
       "      <th>3633</th>\n",
       "      <td>ZWE</td>\n",
       "      <td>Zimbabwe</td>\n",
       "      <td>Sub-Saharan Africa</td>\n",
       "      <td>Lower middle income</td>\n",
       "      <td>BI.WAG.TOTL.GD.ZS</td>\n",
       "      <td>2019</td>\n",
       "      <td>3.749973</td>\n",
       "    </tr>\n",
       "    <tr>\n",
       "      <th>3634</th>\n",
       "      <td>ZWE</td>\n",
       "      <td>Zimbabwe</td>\n",
       "      <td>Sub-Saharan Africa</td>\n",
       "      <td>Lower middle income</td>\n",
       "      <td>BI.WAG.TOTL.GD.ZS</td>\n",
       "      <td>2020</td>\n",
       "      <td>6.440993</td>\n",
       "    </tr>\n",
       "  </tbody>\n",
       "</table>\n",
       "<p>3635 rows × 7 columns</p>\n",
       "</div>"
      ],
      "text/plain": [
       "     country_code short_name                     region         income_group  \\\n",
       "0             ABW      Aruba  Latin America & Caribbean          High income   \n",
       "1             ABW      Aruba  Latin America & Caribbean          High income   \n",
       "2             ABW      Aruba  Latin America & Caribbean          High income   \n",
       "3             ABW      Aruba  Latin America & Caribbean          High income   \n",
       "4             ABW      Aruba  Latin America & Caribbean          High income   \n",
       "...           ...        ...                        ...                  ...   \n",
       "3630          ZWE   Zimbabwe         Sub-Saharan Africa  Lower middle income   \n",
       "3631          ZWE   Zimbabwe         Sub-Saharan Africa  Lower middle income   \n",
       "3632          ZWE   Zimbabwe         Sub-Saharan Africa  Lower middle income   \n",
       "3633          ZWE   Zimbabwe         Sub-Saharan Africa  Lower middle income   \n",
       "3634          ZWE   Zimbabwe         Sub-Saharan Africa  Lower middle income   \n",
       "\n",
       "         indicator_code  year      value  \n",
       "0     BI.WAG.TOTL.GD.ZS  2000   8.503107  \n",
       "1     BI.WAG.TOTL.GD.ZS  2001   8.230285  \n",
       "2     BI.WAG.TOTL.GD.ZS  2002   9.330809  \n",
       "3     BI.WAG.TOTL.GD.ZS  2003   9.070884  \n",
       "4     BI.WAG.TOTL.GD.ZS  2004  10.991002  \n",
       "...                 ...   ...        ...  \n",
       "3630  BI.WAG.TOTL.GD.ZS  2016  13.232838  \n",
       "3631  BI.WAG.TOTL.GD.ZS  2017  10.853515  \n",
       "3632  BI.WAG.TOTL.GD.ZS  2018   7.866549  \n",
       "3633  BI.WAG.TOTL.GD.ZS  2019   3.749973  \n",
       "3634  BI.WAG.TOTL.GD.ZS  2020   6.440993  \n",
       "\n",
       "[3635 rows x 7 columns]"
      ]
     },
     "execution_count": 157,
     "metadata": {},
     "output_type": "execute_result"
    }
   ],
   "source": [
    "# Merge wwbi_country_wage and wwbi_data_wage by country_code\n",
    "wwbi_merged = pd.merge(wwbi_country_wage, wwbi_data_wage, on='country_code', how='inner')\n",
    "wwbi_merged"
   ]
  },
  {
   "cell_type": "code",
   "execution_count": 158,
   "metadata": {},
   "outputs": [
    {
     "name": "stdout",
     "output_type": "stream",
     "text": [
      "Number of unique regions: 7\n",
      "region\n",
      "Europe & Central Asia         50\n",
      "Sub-Saharan Africa            48\n",
      "Latin America & Caribbean     37\n",
      "East Asia & Pacific           32\n",
      "Middle East & North Africa    21\n",
      "South Asia                     8\n",
      "North America                  3\n",
      "Name: count, dtype: int64\n",
      "\n",
      "Cross-tabulation of regions and year:\n"
     ]
    },
    {
     "data": {
      "application/vnd.microsoft.datawrangler.viewer.v0+json": {
       "columns": [
        {
         "name": "region",
         "rawType": "object",
         "type": "string"
        },
        {
         "name": "2000",
         "rawType": "int64",
         "type": "integer"
        },
        {
         "name": "2001",
         "rawType": "int64",
         "type": "integer"
        },
        {
         "name": "2002",
         "rawType": "int64",
         "type": "integer"
        },
        {
         "name": "2003",
         "rawType": "int64",
         "type": "integer"
        },
        {
         "name": "2004",
         "rawType": "int64",
         "type": "integer"
        },
        {
         "name": "2005",
         "rawType": "int64",
         "type": "integer"
        },
        {
         "name": "2006",
         "rawType": "int64",
         "type": "integer"
        },
        {
         "name": "2007",
         "rawType": "int64",
         "type": "integer"
        },
        {
         "name": "2008",
         "rawType": "int64",
         "type": "integer"
        },
        {
         "name": "2009",
         "rawType": "int64",
         "type": "integer"
        },
        {
         "name": "2010",
         "rawType": "int64",
         "type": "integer"
        },
        {
         "name": "2011",
         "rawType": "int64",
         "type": "integer"
        },
        {
         "name": "2012",
         "rawType": "int64",
         "type": "integer"
        },
        {
         "name": "2013",
         "rawType": "int64",
         "type": "integer"
        },
        {
         "name": "2014",
         "rawType": "int64",
         "type": "integer"
        },
        {
         "name": "2015",
         "rawType": "int64",
         "type": "integer"
        },
        {
         "name": "2016",
         "rawType": "int64",
         "type": "integer"
        },
        {
         "name": "2017",
         "rawType": "int64",
         "type": "integer"
        },
        {
         "name": "2018",
         "rawType": "int64",
         "type": "integer"
        },
        {
         "name": "2019",
         "rawType": "int64",
         "type": "integer"
        },
        {
         "name": "2020",
         "rawType": "int64",
         "type": "integer"
        }
       ],
       "conversionMethod": "pd.DataFrame",
       "ref": "451e8c26-ba09-40a7-aebd-b5b20d2974bd",
       "rows": [
        [
         "East Asia & Pacific",
         "15",
         "17",
         "19",
         "19",
         "19",
         "21",
         "21",
         "21",
         "24",
         "25",
         "25",
         "26",
         "27",
         "27",
         "27",
         "28",
         "28",
         "28",
         "28",
         "26",
         "21"
        ],
        [
         "Europe & Central Asia",
         "39",
         "39",
         "44",
         "46",
         "46",
         "46",
         "46",
         "46",
         "47",
         "47",
         "47",
         "47",
         "47",
         "48",
         "48",
         "48",
         "49",
         "49",
         "49",
         "49",
         "47"
        ],
        [
         "Latin America & Caribbean",
         "29",
         "30",
         "30",
         "31",
         "31",
         "31",
         "31",
         "31",
         "32",
         "32",
         "32",
         "32",
         "32",
         "32",
         "32",
         "32",
         "32",
         "32",
         "32",
         "32",
         "31"
        ],
        [
         "Middle East & North Africa",
         "18",
         "18",
         "19",
         "19",
         "20",
         "20",
         "20",
         "20",
         "20",
         "20",
         "20",
         "19",
         "19",
         "19",
         "19",
         "18",
         "18",
         "18",
         "18",
         "18",
         "18"
        ],
        [
         "North America",
         "2",
         "2",
         "2",
         "2",
         "2",
         "2",
         "2",
         "2",
         "2",
         "2",
         "2",
         "2",
         "2",
         "2",
         "2",
         "2",
         "2",
         "2",
         "2",
         "2",
         "1"
        ],
        [
         "South Asia",
         "4",
         "4",
         "4",
         "5",
         "5",
         "5",
         "5",
         "5",
         "5",
         "5",
         "5",
         "5",
         "5",
         "5",
         "5",
         "5",
         "5",
         "5",
         "5",
         "5",
         "5"
        ],
        [
         "Sub-Saharan Africa",
         "42",
         "42",
         "44",
         "44",
         "45",
         "46",
         "46",
         "46",
         "46",
         "46",
         "46",
         "47",
         "47",
         "48",
         "48",
         "48",
         "48",
         "48",
         "48",
         "48",
         "46"
        ]
       ],
       "shape": {
        "columns": 21,
        "rows": 7
       }
      },
      "text/html": [
       "<div>\n",
       "<style scoped>\n",
       "    .dataframe tbody tr th:only-of-type {\n",
       "        vertical-align: middle;\n",
       "    }\n",
       "\n",
       "    .dataframe tbody tr th {\n",
       "        vertical-align: top;\n",
       "    }\n",
       "\n",
       "    .dataframe thead th {\n",
       "        text-align: right;\n",
       "    }\n",
       "</style>\n",
       "<table border=\"1\" class=\"dataframe\">\n",
       "  <thead>\n",
       "    <tr style=\"text-align: right;\">\n",
       "      <th>year</th>\n",
       "      <th>2000</th>\n",
       "      <th>2001</th>\n",
       "      <th>2002</th>\n",
       "      <th>2003</th>\n",
       "      <th>2004</th>\n",
       "      <th>2005</th>\n",
       "      <th>2006</th>\n",
       "      <th>2007</th>\n",
       "      <th>2008</th>\n",
       "      <th>2009</th>\n",
       "      <th>...</th>\n",
       "      <th>2011</th>\n",
       "      <th>2012</th>\n",
       "      <th>2013</th>\n",
       "      <th>2014</th>\n",
       "      <th>2015</th>\n",
       "      <th>2016</th>\n",
       "      <th>2017</th>\n",
       "      <th>2018</th>\n",
       "      <th>2019</th>\n",
       "      <th>2020</th>\n",
       "    </tr>\n",
       "    <tr>\n",
       "      <th>region</th>\n",
       "      <th></th>\n",
       "      <th></th>\n",
       "      <th></th>\n",
       "      <th></th>\n",
       "      <th></th>\n",
       "      <th></th>\n",
       "      <th></th>\n",
       "      <th></th>\n",
       "      <th></th>\n",
       "      <th></th>\n",
       "      <th></th>\n",
       "      <th></th>\n",
       "      <th></th>\n",
       "      <th></th>\n",
       "      <th></th>\n",
       "      <th></th>\n",
       "      <th></th>\n",
       "      <th></th>\n",
       "      <th></th>\n",
       "      <th></th>\n",
       "      <th></th>\n",
       "    </tr>\n",
       "  </thead>\n",
       "  <tbody>\n",
       "    <tr>\n",
       "      <th>East Asia &amp; Pacific</th>\n",
       "      <td>15</td>\n",
       "      <td>17</td>\n",
       "      <td>19</td>\n",
       "      <td>19</td>\n",
       "      <td>19</td>\n",
       "      <td>21</td>\n",
       "      <td>21</td>\n",
       "      <td>21</td>\n",
       "      <td>24</td>\n",
       "      <td>25</td>\n",
       "      <td>...</td>\n",
       "      <td>26</td>\n",
       "      <td>27</td>\n",
       "      <td>27</td>\n",
       "      <td>27</td>\n",
       "      <td>28</td>\n",
       "      <td>28</td>\n",
       "      <td>28</td>\n",
       "      <td>28</td>\n",
       "      <td>26</td>\n",
       "      <td>21</td>\n",
       "    </tr>\n",
       "    <tr>\n",
       "      <th>Europe &amp; Central Asia</th>\n",
       "      <td>39</td>\n",
       "      <td>39</td>\n",
       "      <td>44</td>\n",
       "      <td>46</td>\n",
       "      <td>46</td>\n",
       "      <td>46</td>\n",
       "      <td>46</td>\n",
       "      <td>46</td>\n",
       "      <td>47</td>\n",
       "      <td>47</td>\n",
       "      <td>...</td>\n",
       "      <td>47</td>\n",
       "      <td>47</td>\n",
       "      <td>48</td>\n",
       "      <td>48</td>\n",
       "      <td>48</td>\n",
       "      <td>49</td>\n",
       "      <td>49</td>\n",
       "      <td>49</td>\n",
       "      <td>49</td>\n",
       "      <td>47</td>\n",
       "    </tr>\n",
       "    <tr>\n",
       "      <th>Latin America &amp; Caribbean</th>\n",
       "      <td>29</td>\n",
       "      <td>30</td>\n",
       "      <td>30</td>\n",
       "      <td>31</td>\n",
       "      <td>31</td>\n",
       "      <td>31</td>\n",
       "      <td>31</td>\n",
       "      <td>31</td>\n",
       "      <td>32</td>\n",
       "      <td>32</td>\n",
       "      <td>...</td>\n",
       "      <td>32</td>\n",
       "      <td>32</td>\n",
       "      <td>32</td>\n",
       "      <td>32</td>\n",
       "      <td>32</td>\n",
       "      <td>32</td>\n",
       "      <td>32</td>\n",
       "      <td>32</td>\n",
       "      <td>32</td>\n",
       "      <td>31</td>\n",
       "    </tr>\n",
       "    <tr>\n",
       "      <th>Middle East &amp; North Africa</th>\n",
       "      <td>18</td>\n",
       "      <td>18</td>\n",
       "      <td>19</td>\n",
       "      <td>19</td>\n",
       "      <td>20</td>\n",
       "      <td>20</td>\n",
       "      <td>20</td>\n",
       "      <td>20</td>\n",
       "      <td>20</td>\n",
       "      <td>20</td>\n",
       "      <td>...</td>\n",
       "      <td>19</td>\n",
       "      <td>19</td>\n",
       "      <td>19</td>\n",
       "      <td>19</td>\n",
       "      <td>18</td>\n",
       "      <td>18</td>\n",
       "      <td>18</td>\n",
       "      <td>18</td>\n",
       "      <td>18</td>\n",
       "      <td>18</td>\n",
       "    </tr>\n",
       "    <tr>\n",
       "      <th>North America</th>\n",
       "      <td>2</td>\n",
       "      <td>2</td>\n",
       "      <td>2</td>\n",
       "      <td>2</td>\n",
       "      <td>2</td>\n",
       "      <td>2</td>\n",
       "      <td>2</td>\n",
       "      <td>2</td>\n",
       "      <td>2</td>\n",
       "      <td>2</td>\n",
       "      <td>...</td>\n",
       "      <td>2</td>\n",
       "      <td>2</td>\n",
       "      <td>2</td>\n",
       "      <td>2</td>\n",
       "      <td>2</td>\n",
       "      <td>2</td>\n",
       "      <td>2</td>\n",
       "      <td>2</td>\n",
       "      <td>2</td>\n",
       "      <td>1</td>\n",
       "    </tr>\n",
       "    <tr>\n",
       "      <th>South Asia</th>\n",
       "      <td>4</td>\n",
       "      <td>4</td>\n",
       "      <td>4</td>\n",
       "      <td>5</td>\n",
       "      <td>5</td>\n",
       "      <td>5</td>\n",
       "      <td>5</td>\n",
       "      <td>5</td>\n",
       "      <td>5</td>\n",
       "      <td>5</td>\n",
       "      <td>...</td>\n",
       "      <td>5</td>\n",
       "      <td>5</td>\n",
       "      <td>5</td>\n",
       "      <td>5</td>\n",
       "      <td>5</td>\n",
       "      <td>5</td>\n",
       "      <td>5</td>\n",
       "      <td>5</td>\n",
       "      <td>5</td>\n",
       "      <td>5</td>\n",
       "    </tr>\n",
       "    <tr>\n",
       "      <th>Sub-Saharan Africa</th>\n",
       "      <td>42</td>\n",
       "      <td>42</td>\n",
       "      <td>44</td>\n",
       "      <td>44</td>\n",
       "      <td>45</td>\n",
       "      <td>46</td>\n",
       "      <td>46</td>\n",
       "      <td>46</td>\n",
       "      <td>46</td>\n",
       "      <td>46</td>\n",
       "      <td>...</td>\n",
       "      <td>47</td>\n",
       "      <td>47</td>\n",
       "      <td>48</td>\n",
       "      <td>48</td>\n",
       "      <td>48</td>\n",
       "      <td>48</td>\n",
       "      <td>48</td>\n",
       "      <td>48</td>\n",
       "      <td>48</td>\n",
       "      <td>46</td>\n",
       "    </tr>\n",
       "  </tbody>\n",
       "</table>\n",
       "<p>7 rows × 21 columns</p>\n",
       "</div>"
      ],
      "text/plain": [
       "year                        2000  2001  2002  2003  2004  2005  2006  2007  \\\n",
       "region                                                                       \n",
       "East Asia & Pacific           15    17    19    19    19    21    21    21   \n",
       "Europe & Central Asia         39    39    44    46    46    46    46    46   \n",
       "Latin America & Caribbean     29    30    30    31    31    31    31    31   \n",
       "Middle East & North Africa    18    18    19    19    20    20    20    20   \n",
       "North America                  2     2     2     2     2     2     2     2   \n",
       "South Asia                     4     4     4     5     5     5     5     5   \n",
       "Sub-Saharan Africa            42    42    44    44    45    46    46    46   \n",
       "\n",
       "year                        2008  2009  ...  2011  2012  2013  2014  2015  \\\n",
       "region                                  ...                                 \n",
       "East Asia & Pacific           24    25  ...    26    27    27    27    28   \n",
       "Europe & Central Asia         47    47  ...    47    47    48    48    48   \n",
       "Latin America & Caribbean     32    32  ...    32    32    32    32    32   \n",
       "Middle East & North Africa    20    20  ...    19    19    19    19    18   \n",
       "North America                  2     2  ...     2     2     2     2     2   \n",
       "South Asia                     5     5  ...     5     5     5     5     5   \n",
       "Sub-Saharan Africa            46    46  ...    47    47    48    48    48   \n",
       "\n",
       "year                        2016  2017  2018  2019  2020  \n",
       "region                                                    \n",
       "East Asia & Pacific           28    28    28    26    21  \n",
       "Europe & Central Asia         49    49    49    49    47  \n",
       "Latin America & Caribbean     32    32    32    32    31  \n",
       "Middle East & North Africa    18    18    18    18    18  \n",
       "North America                  2     2     2     2     1  \n",
       "South Asia                     5     5     5     5     5  \n",
       "Sub-Saharan Africa            48    48    48    48    46  \n",
       "\n",
       "[7 rows x 21 columns]"
      ]
     },
     "execution_count": 158,
     "metadata": {},
     "output_type": "execute_result"
    }
   ],
   "source": [
    "print(f\"Number of unique regions: {wwbi_country_wage['region'].nunique()}\")\n",
    "print(wwbi_country_wage['region'].value_counts(dropna=False))\n",
    "print(\"\\nCross-tabulation of regions and year:\")\n",
    "region_year_cross = pd.crosstab(wwbi_merged['region'], wwbi_merged['year'])\n",
    "# sort by region alphabetically\n",
    "region_year_cross = region_year_cross.reindex(sorted(region_year_cross.index), axis=0)\n",
    "region_year_cross"
   ]
  },
  {
   "cell_type": "code",
   "execution_count": 159,
   "metadata": {},
   "outputs": [
    {
     "name": "stdout",
     "output_type": "stream",
     "text": [
      "\n",
      "Number of unique income groups: 4\n",
      "income_group\n",
      "High income            66\n",
      "Lower middle income    54\n",
      "Upper middle income    52\n",
      "Low income             27\n",
      "Name: count, dtype: int64\n",
      "\n",
      "Cross-tabulation of income group and years:\n"
     ]
    },
    {
     "data": {
      "application/vnd.microsoft.datawrangler.viewer.v0+json": {
       "columns": [
        {
         "name": "income_group",
         "rawType": "object",
         "type": "string"
        },
        {
         "name": "2000",
         "rawType": "int64",
         "type": "integer"
        },
        {
         "name": "2001",
         "rawType": "int64",
         "type": "integer"
        },
        {
         "name": "2002",
         "rawType": "int64",
         "type": "integer"
        },
        {
         "name": "2003",
         "rawType": "int64",
         "type": "integer"
        },
        {
         "name": "2004",
         "rawType": "int64",
         "type": "integer"
        },
        {
         "name": "2005",
         "rawType": "int64",
         "type": "integer"
        },
        {
         "name": "2006",
         "rawType": "int64",
         "type": "integer"
        },
        {
         "name": "2007",
         "rawType": "int64",
         "type": "integer"
        },
        {
         "name": "2008",
         "rawType": "int64",
         "type": "integer"
        },
        {
         "name": "2009",
         "rawType": "int64",
         "type": "integer"
        },
        {
         "name": "2010",
         "rawType": "int64",
         "type": "integer"
        },
        {
         "name": "2011",
         "rawType": "int64",
         "type": "integer"
        },
        {
         "name": "2012",
         "rawType": "int64",
         "type": "integer"
        },
        {
         "name": "2013",
         "rawType": "int64",
         "type": "integer"
        },
        {
         "name": "2014",
         "rawType": "int64",
         "type": "integer"
        },
        {
         "name": "2015",
         "rawType": "int64",
         "type": "integer"
        },
        {
         "name": "2016",
         "rawType": "int64",
         "type": "integer"
        },
        {
         "name": "2017",
         "rawType": "int64",
         "type": "integer"
        },
        {
         "name": "2018",
         "rawType": "int64",
         "type": "integer"
        },
        {
         "name": "2019",
         "rawType": "int64",
         "type": "integer"
        },
        {
         "name": "2020",
         "rawType": "int64",
         "type": "integer"
        }
       ],
       "conversionMethod": "pd.DataFrame",
       "ref": "05d18e50-6165-4c6c-9a41-d5f75301f556",
       "rows": [
        [
         "High income",
         "51",
         "53",
         "57",
         "57",
         "57",
         "56",
         "56",
         "56",
         "57",
         "58",
         "58",
         "58",
         "58",
         "58",
         "58",
         "58",
         "58",
         "58",
         "58",
         "56",
         "52"
        ],
        [
         "Low income",
         "23",
         "23",
         "24",
         "25",
         "25",
         "25",
         "25",
         "25",
         "25",
         "25",
         "25",
         "25",
         "25",
         "26",
         "26",
         "26",
         "26",
         "26",
         "26",
         "26",
         "26"
        ],
        [
         "Lower middle income",
         "37",
         "37",
         "40",
         "40",
         "41",
         "43",
         "43",
         "43",
         "45",
         "45",
         "45",
         "46",
         "47",
         "47",
         "47",
         "48",
         "49",
         "49",
         "49",
         "49",
         "45"
        ],
        [
         "Upper middle income",
         "38",
         "39",
         "41",
         "44",
         "45",
         "47",
         "47",
         "47",
         "49",
         "49",
         "49",
         "49",
         "49",
         "50",
         "50",
         "49",
         "49",
         "49",
         "49",
         "49",
         "46"
        ]
       ],
       "shape": {
        "columns": 21,
        "rows": 4
       }
      },
      "text/html": [
       "<div>\n",
       "<style scoped>\n",
       "    .dataframe tbody tr th:only-of-type {\n",
       "        vertical-align: middle;\n",
       "    }\n",
       "\n",
       "    .dataframe tbody tr th {\n",
       "        vertical-align: top;\n",
       "    }\n",
       "\n",
       "    .dataframe thead th {\n",
       "        text-align: right;\n",
       "    }\n",
       "</style>\n",
       "<table border=\"1\" class=\"dataframe\">\n",
       "  <thead>\n",
       "    <tr style=\"text-align: right;\">\n",
       "      <th>year</th>\n",
       "      <th>2000</th>\n",
       "      <th>2001</th>\n",
       "      <th>2002</th>\n",
       "      <th>2003</th>\n",
       "      <th>2004</th>\n",
       "      <th>2005</th>\n",
       "      <th>2006</th>\n",
       "      <th>2007</th>\n",
       "      <th>2008</th>\n",
       "      <th>2009</th>\n",
       "      <th>...</th>\n",
       "      <th>2011</th>\n",
       "      <th>2012</th>\n",
       "      <th>2013</th>\n",
       "      <th>2014</th>\n",
       "      <th>2015</th>\n",
       "      <th>2016</th>\n",
       "      <th>2017</th>\n",
       "      <th>2018</th>\n",
       "      <th>2019</th>\n",
       "      <th>2020</th>\n",
       "    </tr>\n",
       "    <tr>\n",
       "      <th>income_group</th>\n",
       "      <th></th>\n",
       "      <th></th>\n",
       "      <th></th>\n",
       "      <th></th>\n",
       "      <th></th>\n",
       "      <th></th>\n",
       "      <th></th>\n",
       "      <th></th>\n",
       "      <th></th>\n",
       "      <th></th>\n",
       "      <th></th>\n",
       "      <th></th>\n",
       "      <th></th>\n",
       "      <th></th>\n",
       "      <th></th>\n",
       "      <th></th>\n",
       "      <th></th>\n",
       "      <th></th>\n",
       "      <th></th>\n",
       "      <th></th>\n",
       "      <th></th>\n",
       "    </tr>\n",
       "  </thead>\n",
       "  <tbody>\n",
       "    <tr>\n",
       "      <th>High income</th>\n",
       "      <td>51</td>\n",
       "      <td>53</td>\n",
       "      <td>57</td>\n",
       "      <td>57</td>\n",
       "      <td>57</td>\n",
       "      <td>56</td>\n",
       "      <td>56</td>\n",
       "      <td>56</td>\n",
       "      <td>57</td>\n",
       "      <td>58</td>\n",
       "      <td>...</td>\n",
       "      <td>58</td>\n",
       "      <td>58</td>\n",
       "      <td>58</td>\n",
       "      <td>58</td>\n",
       "      <td>58</td>\n",
       "      <td>58</td>\n",
       "      <td>58</td>\n",
       "      <td>58</td>\n",
       "      <td>56</td>\n",
       "      <td>52</td>\n",
       "    </tr>\n",
       "    <tr>\n",
       "      <th>Low income</th>\n",
       "      <td>23</td>\n",
       "      <td>23</td>\n",
       "      <td>24</td>\n",
       "      <td>25</td>\n",
       "      <td>25</td>\n",
       "      <td>25</td>\n",
       "      <td>25</td>\n",
       "      <td>25</td>\n",
       "      <td>25</td>\n",
       "      <td>25</td>\n",
       "      <td>...</td>\n",
       "      <td>25</td>\n",
       "      <td>25</td>\n",
       "      <td>26</td>\n",
       "      <td>26</td>\n",
       "      <td>26</td>\n",
       "      <td>26</td>\n",
       "      <td>26</td>\n",
       "      <td>26</td>\n",
       "      <td>26</td>\n",
       "      <td>26</td>\n",
       "    </tr>\n",
       "    <tr>\n",
       "      <th>Lower middle income</th>\n",
       "      <td>37</td>\n",
       "      <td>37</td>\n",
       "      <td>40</td>\n",
       "      <td>40</td>\n",
       "      <td>41</td>\n",
       "      <td>43</td>\n",
       "      <td>43</td>\n",
       "      <td>43</td>\n",
       "      <td>45</td>\n",
       "      <td>45</td>\n",
       "      <td>...</td>\n",
       "      <td>46</td>\n",
       "      <td>47</td>\n",
       "      <td>47</td>\n",
       "      <td>47</td>\n",
       "      <td>48</td>\n",
       "      <td>49</td>\n",
       "      <td>49</td>\n",
       "      <td>49</td>\n",
       "      <td>49</td>\n",
       "      <td>45</td>\n",
       "    </tr>\n",
       "    <tr>\n",
       "      <th>Upper middle income</th>\n",
       "      <td>38</td>\n",
       "      <td>39</td>\n",
       "      <td>41</td>\n",
       "      <td>44</td>\n",
       "      <td>45</td>\n",
       "      <td>47</td>\n",
       "      <td>47</td>\n",
       "      <td>47</td>\n",
       "      <td>49</td>\n",
       "      <td>49</td>\n",
       "      <td>...</td>\n",
       "      <td>49</td>\n",
       "      <td>49</td>\n",
       "      <td>50</td>\n",
       "      <td>50</td>\n",
       "      <td>49</td>\n",
       "      <td>49</td>\n",
       "      <td>49</td>\n",
       "      <td>49</td>\n",
       "      <td>49</td>\n",
       "      <td>46</td>\n",
       "    </tr>\n",
       "  </tbody>\n",
       "</table>\n",
       "<p>4 rows × 21 columns</p>\n",
       "</div>"
      ],
      "text/plain": [
       "year                 2000  2001  2002  2003  2004  2005  2006  2007  2008  \\\n",
       "income_group                                                                \n",
       "High income            51    53    57    57    57    56    56    56    57   \n",
       "Low income             23    23    24    25    25    25    25    25    25   \n",
       "Lower middle income    37    37    40    40    41    43    43    43    45   \n",
       "Upper middle income    38    39    41    44    45    47    47    47    49   \n",
       "\n",
       "year                 2009  ...  2011  2012  2013  2014  2015  2016  2017  \\\n",
       "income_group               ...                                             \n",
       "High income            58  ...    58    58    58    58    58    58    58   \n",
       "Low income             25  ...    25    25    26    26    26    26    26   \n",
       "Lower middle income    45  ...    46    47    47    47    48    49    49   \n",
       "Upper middle income    49  ...    49    49    50    50    49    49    49   \n",
       "\n",
       "year                 2018  2019  2020  \n",
       "income_group                           \n",
       "High income            58    56    52  \n",
       "Low income             26    26    26  \n",
       "Lower middle income    49    49    45  \n",
       "Upper middle income    49    49    46  \n",
       "\n",
       "[4 rows x 21 columns]"
      ]
     },
     "execution_count": 159,
     "metadata": {},
     "output_type": "execute_result"
    }
   ],
   "source": [
    "print(f\"\\nNumber of unique income groups: {wwbi_country_wage['income_group'].nunique()}\")\n",
    "print(wwbi_country_wage['income_group'].value_counts(dropna=False))\n",
    "print(\"\\nCross-tabulation of income group and years:\")\n",
    "income_year_cross = pd.crosstab(wwbi_merged['income_group'], wwbi_merged['year'])\n",
    "income_year_cross"
   ]
  },
  {
   "cell_type": "markdown",
   "metadata": {},
   "source": [
    "**Insights:**\n",
    "- First we dropped countries with unknown regions or income group\n",
    "- It seems that we should not drop country that does not have data for all 21 years. As for region like North Americe, there are only 3 countries, but seems that 1 country does not have data for all 21 years (>10 years missing). Similar for South Asia, only 8 countries but about 3-4 of them miss data for more than 10 years. \n",
    "    -> Maybe strategy now is just plot for all the available data, at least it can provide some insights. If dropping those countries, can significantly reduce the representation of these regions"
   ]
  },
  {
   "cell_type": "markdown",
   "metadata": {},
   "source": [
    "# Question 2"
   ]
  },
  {
   "attachments": {
    "image.png": {
     "image/png": "[encoded data removed]"
    }
   },
   "cell_type": "markdown",
   "metadata": {},
   "source": [
    "- Females as a share of public paid employees by occupation: senior officials/ professionals/technicians/ clerks/ elementary occupations workers in public/private sector: Calculate by (Number of female public paid employees who work as senior official/ professionals/ technicians/clerks, Elementary occupations workers) divide by (Number of public paid employees work senior official/professionals/technicians/clerks, Elementary occupations worker)\n",
    "- ![image.png](attachment:image.png)"
   ]
  },
  {
   "cell_type": "code",
   "execution_count": 45,
   "metadata": {},
   "outputs": [],
   "source": [
    "# Public sector indicators\n",
    "wwbi_data_vietnam_pubs_sn = wwbi_data_vietnam[wwbi_data_vietnam['indicator_code']=='BI.PWK.PUBS.SN.FE.ZS']\n",
    "wwbi_data_vietnam_pubs_pn = wwbi_data_vietnam[wwbi_data_vietnam['indicator_code']=='BI.PWK.PUBS.PN.FE.ZS']\n",
    "wwbi_data_vietnam_pubs_tn = wwbi_data_vietnam[wwbi_data_vietnam['indicator_code']=='BI.PWK.PUBS.TN.FE.ZS']\n",
    "wwbi_data_vietnam_pubs_ck = wwbi_data_vietnam[wwbi_data_vietnam['indicator_code']=='BI.PWK.PUBS.CK.FE.ZS']\n",
    "wwbi_data_vietnam_pubs_eo = wwbi_data_vietnam[wwbi_data_vietnam['indicator_code']=='BI.PWK.PUBS.EO.FE.ZS']"
   ]
  },
  {
   "cell_type": "code",
   "execution_count": 46,
   "metadata": {},
   "outputs": [],
   "source": [
    "# Private sector indicators\n",
    "wwbi_data_vietnam_prvt_sn = wwbi_data_vietnam[wwbi_data_vietnam['indicator_code']=='BI.PWK.PRVS.SN.FE.ZS']\n",
    "wwbi_data_vietnam_prvt_pn = wwbi_data_vietnam[wwbi_data_vietnam['indicator_code']=='BI.PWK.PRVS.PN.FE.ZS']\n",
    "wwbi_data_vietnam_prvt_tn = wwbi_data_vietnam[wwbi_data_vietnam['indicator_code']=='BI.PWK.PRVS.TN.FE.ZS']\n",
    "wwbi_data_vietnam_prvt_ck = wwbi_data_vietnam[wwbi_data_vietnam['indicator_code']=='BI.PWK.PRVS.CK.FE.ZS']\n",
    "wwbi_data_vietnam_prvt_eo = wwbi_data_vietnam[wwbi_data_vietnam['indicator_code']=='BI.PWK.PRVS.EO.FE.ZS']"
   ]
  },
  {
   "cell_type": "code",
   "execution_count": 35,
   "metadata": {},
   "outputs": [],
   "source": [
    "def explore_data(dataframes_dict):\n",
    "    \"\"\"\n",
    "    Explore basic information about each dataframe in the dictionary\n",
    "    \"\"\"\n",
    "    summary = {}\n",
    "    \n",
    "    for name, df in dataframes_dict.items():\n",
    "        years_range = df['year'].unique()\n",
    "        avg_value = df['value'].mean()\n",
    "        min_value = df['value'].min()\n",
    "        max_value = df['value'].max()\n",
    "        \n",
    "        # Store in summary\n",
    "        summary[name] = {\n",
    "            'years_available': sorted([int(year) for year in years_range]),\n",
    "            'year_count': len(years_range),\n",
    "            'avg_value': avg_value,\n",
    "            'min_value': min_value,\n",
    "            'max_value': max_value\n",
    "        }\n",
    "    \n",
    "    return pd.DataFrame(summary).T\n",
    "\n",
    "dfs = {\n",
    "    'Public Clerks': wwbi_data_vietnam_pubs_ck,\n",
    "    'Public Elementary': wwbi_data_vietnam_pubs_eo,\n",
    "    'Public Managers': wwbi_data_vietnam_pubs_sn,\n",
    "    'Public Professionals': wwbi_data_vietnam_pubs_pn,\n",
    "    'Public Technicians': wwbi_data_vietnam_pubs_tn,\n",
    "    'Private Clerks': wwbi_data_vietnam_prvt_ck,\n",
    "    'Private Elementary': wwbi_data_vietnam_prvt_eo,\n",
    "    'Private Managers': wwbi_data_vietnam_prvt_sn,\n",
    "    'Private Professionals': wwbi_data_vietnam_prvt_pn,\n",
    "    'Private Technicians': wwbi_data_vietnam_prvt_tn\n",
    "}"
   ]
  },
  {
   "cell_type": "code",
   "execution_count": 36,
   "metadata": {},
   "outputs": [
    {
     "data": {
      "application/vnd.microsoft.datawrangler.viewer.v0+json": {
       "columns": [
        {
         "name": "index",
         "rawType": "object",
         "type": "string"
        },
        {
         "name": "years_available",
         "rawType": "object",
         "type": "unknown"
        },
        {
         "name": "year_count",
         "rawType": "object",
         "type": "unknown"
        },
        {
         "name": "avg_value",
         "rawType": "object",
         "type": "unknown"
        },
        {
         "name": "min_value",
         "rawType": "object",
         "type": "unknown"
        },
        {
         "name": "max_value",
         "rawType": "object",
         "type": "unknown"
        }
       ],
       "conversionMethod": "pd.DataFrame",
       "ref": "089ba474-bfc7-4c5a-960d-7ab4b8063151",
       "rows": [
        [
         "Public Clerks",
         "[2010, 2012, 2014, 2016]",
         "4",
         "0.532736584544182",
         "0.418343245983124",
         "0.619044005870819"
        ],
        [
         "Public Elementary",
         "[2010, 2012, 2014, 2016]",
         "4",
         "0.5589775443077087",
         "0.503616511821747",
         "0.590685725212097"
        ],
        [
         "Public Managers",
         "[2010, 2012, 2014, 2016]",
         "4",
         "0.240992806851864",
         "0.217674642801285",
         "0.273760706186295"
        ],
        [
         "Public Professionals",
         "[2010, 2012, 2014, 2016]",
         "4",
         "0.5307252258062365",
         "0.507582545280457",
         "0.549129188060761"
        ],
        [
         "Public Technicians",
         "[2010, 2012, 2014, 2016]",
         "4",
         "0.625761702656746",
         "0.60552990436554",
         "0.659489631652832"
        ],
        [
         "Private Clerks",
         "[2010, 2012, 2014, 2016]",
         "4",
         "0.5676896274089813",
         "0.517693996429443",
         "0.642634689807892"
        ],
        [
         "Private Elementary",
         "[2010, 2012, 2014, 2016]",
         "4",
         "0.444217838346958",
         "0.386889666318893",
         "0.517507255077362"
        ],
        [
         "Private Managers",
         "[2010, 2012, 2014, 2016]",
         "4",
         "0.213614173233509",
         "0.183163091540337",
         "0.240541040897369"
        ],
        [
         "Private Professionals",
         "[2010, 2012, 2014, 2016]",
         "4",
         "0.5065929442644117",
         "0.431755185127258",
         "0.569501161575317"
        ],
        [
         "Private Technicians",
         "[2010, 2012, 2014, 2016]",
         "4",
         "0.5287049263715745",
         "0.500836670398712",
         "0.562838613986969"
        ]
       ],
       "shape": {
        "columns": 5,
        "rows": 10
       }
      },
      "text/html": [
       "<div>\n",
       "<style scoped>\n",
       "    .dataframe tbody tr th:only-of-type {\n",
       "        vertical-align: middle;\n",
       "    }\n",
       "\n",
       "    .dataframe tbody tr th {\n",
       "        vertical-align: top;\n",
       "    }\n",
       "\n",
       "    .dataframe thead th {\n",
       "        text-align: right;\n",
       "    }\n",
       "</style>\n",
       "<table border=\"1\" class=\"dataframe\">\n",
       "  <thead>\n",
       "    <tr style=\"text-align: right;\">\n",
       "      <th></th>\n",
       "      <th>years_available</th>\n",
       "      <th>year_count</th>\n",
       "      <th>avg_value</th>\n",
       "      <th>min_value</th>\n",
       "      <th>max_value</th>\n",
       "    </tr>\n",
       "  </thead>\n",
       "  <tbody>\n",
       "    <tr>\n",
       "      <th>Public Clerks</th>\n",
       "      <td>[2010, 2012, 2014, 2016]</td>\n",
       "      <td>4</td>\n",
       "      <td>0.532737</td>\n",
       "      <td>0.418343</td>\n",
       "      <td>0.619044</td>\n",
       "    </tr>\n",
       "    <tr>\n",
       "      <th>Public Elementary</th>\n",
       "      <td>[2010, 2012, 2014, 2016]</td>\n",
       "      <td>4</td>\n",
       "      <td>0.558978</td>\n",
       "      <td>0.503617</td>\n",
       "      <td>0.590686</td>\n",
       "    </tr>\n",
       "    <tr>\n",
       "      <th>Public Managers</th>\n",
       "      <td>[2010, 2012, 2014, 2016]</td>\n",
       "      <td>4</td>\n",
       "      <td>0.240993</td>\n",
       "      <td>0.217675</td>\n",
       "      <td>0.273761</td>\n",
       "    </tr>\n",
       "    <tr>\n",
       "      <th>Public Professionals</th>\n",
       "      <td>[2010, 2012, 2014, 2016]</td>\n",
       "      <td>4</td>\n",
       "      <td>0.530725</td>\n",
       "      <td>0.507583</td>\n",
       "      <td>0.549129</td>\n",
       "    </tr>\n",
       "    <tr>\n",
       "      <th>Public Technicians</th>\n",
       "      <td>[2010, 2012, 2014, 2016]</td>\n",
       "      <td>4</td>\n",
       "      <td>0.625762</td>\n",
       "      <td>0.60553</td>\n",
       "      <td>0.65949</td>\n",
       "    </tr>\n",
       "    <tr>\n",
       "      <th>Private Clerks</th>\n",
       "      <td>[2010, 2012, 2014, 2016]</td>\n",
       "      <td>4</td>\n",
       "      <td>0.56769</td>\n",
       "      <td>0.517694</td>\n",
       "      <td>0.642635</td>\n",
       "    </tr>\n",
       "    <tr>\n",
       "      <th>Private Elementary</th>\n",
       "      <td>[2010, 2012, 2014, 2016]</td>\n",
       "      <td>4</td>\n",
       "      <td>0.444218</td>\n",
       "      <td>0.38689</td>\n",
       "      <td>0.517507</td>\n",
       "    </tr>\n",
       "    <tr>\n",
       "      <th>Private Managers</th>\n",
       "      <td>[2010, 2012, 2014, 2016]</td>\n",
       "      <td>4</td>\n",
       "      <td>0.213614</td>\n",
       "      <td>0.183163</td>\n",
       "      <td>0.240541</td>\n",
       "    </tr>\n",
       "    <tr>\n",
       "      <th>Private Professionals</th>\n",
       "      <td>[2010, 2012, 2014, 2016]</td>\n",
       "      <td>4</td>\n",
       "      <td>0.506593</td>\n",
       "      <td>0.431755</td>\n",
       "      <td>0.569501</td>\n",
       "    </tr>\n",
       "    <tr>\n",
       "      <th>Private Technicians</th>\n",
       "      <td>[2010, 2012, 2014, 2016]</td>\n",
       "      <td>4</td>\n",
       "      <td>0.528705</td>\n",
       "      <td>0.500837</td>\n",
       "      <td>0.562839</td>\n",
       "    </tr>\n",
       "  </tbody>\n",
       "</table>\n",
       "</div>"
      ],
      "text/plain": [
       "                                years_available year_count avg_value  \\\n",
       "Public Clerks          [2010, 2012, 2014, 2016]          4  0.532737   \n",
       "Public Elementary      [2010, 2012, 2014, 2016]          4  0.558978   \n",
       "Public Managers        [2010, 2012, 2014, 2016]          4  0.240993   \n",
       "Public Professionals   [2010, 2012, 2014, 2016]          4  0.530725   \n",
       "Public Technicians     [2010, 2012, 2014, 2016]          4  0.625762   \n",
       "Private Clerks         [2010, 2012, 2014, 2016]          4   0.56769   \n",
       "Private Elementary     [2010, 2012, 2014, 2016]          4  0.444218   \n",
       "Private Managers       [2010, 2012, 2014, 2016]          4  0.213614   \n",
       "Private Professionals  [2010, 2012, 2014, 2016]          4  0.506593   \n",
       "Private Technicians    [2010, 2012, 2014, 2016]          4  0.528705   \n",
       "\n",
       "                      min_value max_value  \n",
       "Public Clerks          0.418343  0.619044  \n",
       "Public Elementary      0.503617  0.590686  \n",
       "Public Managers        0.217675  0.273761  \n",
       "Public Professionals   0.507583  0.549129  \n",
       "Public Technicians      0.60553   0.65949  \n",
       "Private Clerks         0.517694  0.642635  \n",
       "Private Elementary      0.38689  0.517507  \n",
       "Private Managers       0.183163  0.240541  \n",
       "Private Professionals  0.431755  0.569501  \n",
       "Private Technicians    0.500837  0.562839  "
      ]
     },
     "execution_count": 36,
     "metadata": {},
     "output_type": "execute_result"
    }
   ],
   "source": [
    "summary_df = explore_data(dfs)\n",
    "summary_df"
   ]
  },
  {
   "cell_type": "markdown",
   "metadata": {},
   "source": [
    "**Insights**\n",
    "- Have 5 occupation groups\n",
    "- Only 4 time points (2010, 2012, 2014, 2016)\n",
    "- No missing data"
   ]
  },
  {
   "cell_type": "markdown",
   "metadata": {},
   "source": [
    "Option 1: Bar Plot of All 5 Occupation Groups Over Time \n",
    "Use grouped bar plots:\n",
    "- X-axis: Occupation groups\n",
    "- Y-axis: % Female\n",
    "- Bars grouped by: Year \n",
    "- Do one for Public and one for Private\n",
    "\n",
    "Option 2: Line Plot of All 5 Occupation Groups Over Time. One for public, one for private\n",
    "\n",
    "Option 3: Group into High-Level vs Low-Level \n",
    "Grouped Plot of Average % Female Representation (High vs Low level) Over Time. Combined line plot for gap\n",
    "\t- X-axis: High/low grouped by year\n",
    "\t- Y-axis:  % Female representation\n",
    "\t- Lines:\n",
    "\t\t- High-level average (Managers, Professionals, Technicians)\n",
    "\t\t- Low-level average (Clerks, Elementary workers)"
   ]
  },
  {
   "cell_type": "code",
   "execution_count": 94,
   "metadata": {},
   "outputs": [],
   "source": [
    "def integrate_data(dataframes_dict):\n",
    "    \"\"\"\n",
    "    Integrate all dataframes into a single one for easier analysis\n",
    "    \"\"\"\n",
    "    all_data = []\n",
    "    occupation_order = ['Managers', 'Professionals', 'Technicians', 'Clerks', 'Elementary']\n",
    "\n",
    "    for name, df in dataframes_dict.items():\n",
    "        sector = name.split()[0]  # 'Public' or 'Private'\n",
    "        occupation = ' '.join(name.split()[1:])  # The occupation type\n",
    "        \n",
    "        # Create a level category (high or low)\n",
    "        if occupation in ['Managers', 'Professionals', 'Technicians']:\n",
    "            level = 'High'\n",
    "        elif occupation in ['Clerks', 'Elementary']:\n",
    "            level = 'Low'\n",
    "        else:\n",
    "            level = 'Unknown'\n",
    "        \n",
    "        # Copy the dataframe to avoid modifying the original\n",
    "        temp_df = df.copy()\n",
    "        temp_df['sector'] = sector\n",
    "        temp_df['occupation'] = occupation\n",
    "        temp_df['level'] = level\n",
    "        \n",
    "        all_data.append(temp_df)\n",
    "    \n",
    "    # Concatenate all dataframes\n",
    "    integrated_df = pd.concat(all_data, ignore_index=True)\n",
    "    integrated_df['occupation'] = pd.Categorical(\n",
    "        integrated_df['occupation'],\n",
    "        categories=occupation_order,\n",
    "        ordered=True\n",
    "    )\n",
    "    return integrated_df"
   ]
  },
  {
   "cell_type": "code",
   "execution_count": 95,
   "metadata": {},
   "outputs": [
    {
     "data": {
      "application/vnd.microsoft.datawrangler.viewer.v0+json": {
       "columns": [
        {
         "name": "index",
         "rawType": "int64",
         "type": "integer"
        },
        {
         "name": "country_code",
         "rawType": "object",
         "type": "string"
        },
        {
         "name": "indicator_code",
         "rawType": "object",
         "type": "string"
        },
        {
         "name": "year",
         "rawType": "int64",
         "type": "integer"
        },
        {
         "name": "value",
         "rawType": "float64",
         "type": "float"
        },
        {
         "name": "sector",
         "rawType": "object",
         "type": "string"
        },
        {
         "name": "occupation",
         "rawType": "category",
         "type": "unknown"
        },
        {
         "name": "level",
         "rawType": "object",
         "type": "string"
        }
       ],
       "conversionMethod": "pd.DataFrame",
       "ref": "38d11905-d343-4f7a-9f0e-71c4b979dc8f",
       "rows": [
        [
         "0",
         "VNM",
         "BI.PWK.PUBS.CK.FE.ZS",
         "2010",
         "0.418343245983124",
         "Public",
         "Clerks",
         "Low"
        ],
        [
         "1",
         "VNM",
         "BI.PWK.PUBS.CK.FE.ZS",
         "2012",
         "0.619044005870819",
         "Public",
         "Clerks",
         "Low"
        ],
        [
         "2",
         "VNM",
         "BI.PWK.PUBS.CK.FE.ZS",
         "2014",
         "0.545411825180054",
         "Public",
         "Clerks",
         "Low"
        ],
        [
         "3",
         "VNM",
         "BI.PWK.PUBS.CK.FE.ZS",
         "2016",
         "0.548147261142731",
         "Public",
         "Clerks",
         "Low"
        ],
        [
         "4",
         "VNM",
         "BI.PWK.PUBS.EO.FE.ZS",
         "2010",
         "0.503616511821747",
         "Public",
         "Elementary",
         "Low"
        ],
        [
         "5",
         "VNM",
         "BI.PWK.PUBS.EO.FE.ZS",
         "2012",
         "0.586875379085541",
         "Public",
         "Elementary",
         "Low"
        ],
        [
         "6",
         "VNM",
         "BI.PWK.PUBS.EO.FE.ZS",
         "2014",
         "0.55473256111145",
         "Public",
         "Elementary",
         "Low"
        ],
        [
         "7",
         "VNM",
         "BI.PWK.PUBS.EO.FE.ZS",
         "2016",
         "0.590685725212097",
         "Public",
         "Elementary",
         "Low"
        ],
        [
         "8",
         "VNM",
         "BI.PWK.PUBS.SN.FE.ZS",
         "2010",
         "0.244890749454498",
         "Public",
         "Managers",
         "High"
        ],
        [
         "9",
         "VNM",
         "BI.PWK.PUBS.SN.FE.ZS",
         "2012",
         "0.227645128965378",
         "Public",
         "Managers",
         "High"
        ],
        [
         "10",
         "VNM",
         "BI.PWK.PUBS.SN.FE.ZS",
         "2014",
         "0.217674642801285",
         "Public",
         "Managers",
         "High"
        ],
        [
         "11",
         "VNM",
         "BI.PWK.PUBS.SN.FE.ZS",
         "2016",
         "0.273760706186295",
         "Public",
         "Managers",
         "High"
        ],
        [
         "12",
         "VNM",
         "BI.PWK.PUBS.PN.FE.ZS",
         "2010",
         "0.507582545280457",
         "Public",
         "Professionals",
         "High"
        ],
        [
         "13",
         "VNM",
         "BI.PWK.PUBS.PN.FE.ZS",
         "2012",
         "0.522816777229309",
         "Public",
         "Professionals",
         "High"
        ],
        [
         "14",
         "VNM",
         "BI.PWK.PUBS.PN.FE.ZS",
         "2014",
         "0.543372392654419",
         "Public",
         "Professionals",
         "High"
        ],
        [
         "15",
         "VNM",
         "BI.PWK.PUBS.PN.FE.ZS",
         "2016",
         "0.549129188060761",
         "Public",
         "Professionals",
         "High"
        ],
        [
         "16",
         "VNM",
         "BI.PWK.PUBS.TN.FE.ZS",
         "2010",
         "0.607749342918396",
         "Public",
         "Technicians",
         "High"
        ],
        [
         "17",
         "VNM",
         "BI.PWK.PUBS.TN.FE.ZS",
         "2012",
         "0.630277931690216",
         "Public",
         "Technicians",
         "High"
        ],
        [
         "18",
         "VNM",
         "BI.PWK.PUBS.TN.FE.ZS",
         "2014",
         "0.659489631652832",
         "Public",
         "Technicians",
         "High"
        ],
        [
         "19",
         "VNM",
         "BI.PWK.PUBS.TN.FE.ZS",
         "2016",
         "0.60552990436554",
         "Public",
         "Technicians",
         "High"
        ],
        [
         "20",
         "VNM",
         "BI.PWK.PRVS.CK.FE.ZS",
         "2010",
         "0.528355002403259",
         "Private",
         "Clerks",
         "Low"
        ],
        [
         "21",
         "VNM",
         "BI.PWK.PRVS.CK.FE.ZS",
         "2012",
         "0.517693996429443",
         "Private",
         "Clerks",
         "Low"
        ],
        [
         "22",
         "VNM",
         "BI.PWK.PRVS.CK.FE.ZS",
         "2014",
         "0.582074820995331",
         "Private",
         "Clerks",
         "Low"
        ],
        [
         "23",
         "VNM",
         "BI.PWK.PRVS.CK.FE.ZS",
         "2016",
         "0.642634689807892",
         "Private",
         "Clerks",
         "Low"
        ],
        [
         "24",
         "VNM",
         "BI.PWK.PRVS.EO.FE.ZS",
         "2010",
         "0.394109904766083",
         "Private",
         "Elementary",
         "Low"
        ],
        [
         "25",
         "VNM",
         "BI.PWK.PRVS.EO.FE.ZS",
         "2012",
         "0.517507255077362",
         "Private",
         "Elementary",
         "Low"
        ],
        [
         "26",
         "VNM",
         "BI.PWK.PRVS.EO.FE.ZS",
         "2014",
         "0.478364527225494",
         "Private",
         "Elementary",
         "Low"
        ],
        [
         "27",
         "VNM",
         "BI.PWK.PRVS.EO.FE.ZS",
         "2016",
         "0.386889666318893",
         "Private",
         "Elementary",
         "Low"
        ],
        [
         "28",
         "VNM",
         "BI.PWK.PRVS.SN.FE.ZS",
         "2010",
         "0.240541040897369",
         "Private",
         "Managers",
         "High"
        ],
        [
         "29",
         "VNM",
         "BI.PWK.PRVS.SN.FE.ZS",
         "2012",
         "0.218033373355865",
         "Private",
         "Managers",
         "High"
        ],
        [
         "30",
         "VNM",
         "BI.PWK.PRVS.SN.FE.ZS",
         "2014",
         "0.212719187140465",
         "Private",
         "Managers",
         "High"
        ],
        [
         "31",
         "VNM",
         "BI.PWK.PRVS.SN.FE.ZS",
         "2016",
         "0.183163091540337",
         "Private",
         "Managers",
         "High"
        ],
        [
         "32",
         "VNM",
         "BI.PWK.PRVS.PN.FE.ZS",
         "2010",
         "0.486498415470123",
         "Private",
         "Professionals",
         "High"
        ],
        [
         "33",
         "VNM",
         "BI.PWK.PRVS.PN.FE.ZS",
         "2012",
         "0.431755185127258",
         "Private",
         "Professionals",
         "High"
        ],
        [
         "34",
         "VNM",
         "BI.PWK.PRVS.PN.FE.ZS",
         "2014",
         "0.538617014884949",
         "Private",
         "Professionals",
         "High"
        ],
        [
         "35",
         "VNM",
         "BI.PWK.PRVS.PN.FE.ZS",
         "2016",
         "0.569501161575317",
         "Private",
         "Professionals",
         "High"
        ],
        [
         "36",
         "VNM",
         "BI.PWK.PRVS.TN.FE.ZS",
         "2010",
         "0.539137363433838",
         "Private",
         "Technicians",
         "High"
        ],
        [
         "37",
         "VNM",
         "BI.PWK.PRVS.TN.FE.ZS",
         "2012",
         "0.512007057666779",
         "Private",
         "Technicians",
         "High"
        ],
        [
         "38",
         "VNM",
         "BI.PWK.PRVS.TN.FE.ZS",
         "2014",
         "0.562838613986969",
         "Private",
         "Technicians",
         "High"
        ],
        [
         "39",
         "VNM",
         "BI.PWK.PRVS.TN.FE.ZS",
         "2016",
         "0.500836670398712",
         "Private",
         "Technicians",
         "High"
        ]
       ],
       "shape": {
        "columns": 7,
        "rows": 40
       }
      },
      "text/html": [
       "<div>\n",
       "<style scoped>\n",
       "    .dataframe tbody tr th:only-of-type {\n",
       "        vertical-align: middle;\n",
       "    }\n",
       "\n",
       "    .dataframe tbody tr th {\n",
       "        vertical-align: top;\n",
       "    }\n",
       "\n",
       "    .dataframe thead th {\n",
       "        text-align: right;\n",
       "    }\n",
       "</style>\n",
       "<table border=\"1\" class=\"dataframe\">\n",
       "  <thead>\n",
       "    <tr style=\"text-align: right;\">\n",
       "      <th></th>\n",
       "      <th>country_code</th>\n",
       "      <th>indicator_code</th>\n",
       "      <th>year</th>\n",
       "      <th>value</th>\n",
       "      <th>sector</th>\n",
       "      <th>occupation</th>\n",
       "      <th>level</th>\n",
       "    </tr>\n",
       "  </thead>\n",
       "  <tbody>\n",
       "    <tr>\n",
       "      <th>0</th>\n",
       "      <td>VNM</td>\n",
       "      <td>BI.PWK.PUBS.CK.FE.ZS</td>\n",
       "      <td>2010</td>\n",
       "      <td>0.418343</td>\n",
       "      <td>Public</td>\n",
       "      <td>Clerks</td>\n",
       "      <td>Low</td>\n",
       "    </tr>\n",
       "    <tr>\n",
       "      <th>1</th>\n",
       "      <td>VNM</td>\n",
       "      <td>BI.PWK.PUBS.CK.FE.ZS</td>\n",
       "      <td>2012</td>\n",
       "      <td>0.619044</td>\n",
       "      <td>Public</td>\n",
       "      <td>Clerks</td>\n",
       "      <td>Low</td>\n",
       "    </tr>\n",
       "    <tr>\n",
       "      <th>2</th>\n",
       "      <td>VNM</td>\n",
       "      <td>BI.PWK.PUBS.CK.FE.ZS</td>\n",
       "      <td>2014</td>\n",
       "      <td>0.545412</td>\n",
       "      <td>Public</td>\n",
       "      <td>Clerks</td>\n",
       "      <td>Low</td>\n",
       "    </tr>\n",
       "    <tr>\n",
       "      <th>3</th>\n",
       "      <td>VNM</td>\n",
       "      <td>BI.PWK.PUBS.CK.FE.ZS</td>\n",
       "      <td>2016</td>\n",
       "      <td>0.548147</td>\n",
       "      <td>Public</td>\n",
       "      <td>Clerks</td>\n",
       "      <td>Low</td>\n",
       "    </tr>\n",
       "    <tr>\n",
       "      <th>4</th>\n",
       "      <td>VNM</td>\n",
       "      <td>BI.PWK.PUBS.EO.FE.ZS</td>\n",
       "      <td>2010</td>\n",
       "      <td>0.503617</td>\n",
       "      <td>Public</td>\n",
       "      <td>Elementary</td>\n",
       "      <td>Low</td>\n",
       "    </tr>\n",
       "    <tr>\n",
       "      <th>5</th>\n",
       "      <td>VNM</td>\n",
       "      <td>BI.PWK.PUBS.EO.FE.ZS</td>\n",
       "      <td>2012</td>\n",
       "      <td>0.586875</td>\n",
       "      <td>Public</td>\n",
       "      <td>Elementary</td>\n",
       "      <td>Low</td>\n",
       "    </tr>\n",
       "    <tr>\n",
       "      <th>6</th>\n",
       "      <td>VNM</td>\n",
       "      <td>BI.PWK.PUBS.EO.FE.ZS</td>\n",
       "      <td>2014</td>\n",
       "      <td>0.554733</td>\n",
       "      <td>Public</td>\n",
       "      <td>Elementary</td>\n",
       "      <td>Low</td>\n",
       "    </tr>\n",
       "    <tr>\n",
       "      <th>7</th>\n",
       "      <td>VNM</td>\n",
       "      <td>BI.PWK.PUBS.EO.FE.ZS</td>\n",
       "      <td>2016</td>\n",
       "      <td>0.590686</td>\n",
       "      <td>Public</td>\n",
       "      <td>Elementary</td>\n",
       "      <td>Low</td>\n",
       "    </tr>\n",
       "    <tr>\n",
       "      <th>8</th>\n",
       "      <td>VNM</td>\n",
       "      <td>BI.PWK.PUBS.SN.FE.ZS</td>\n",
       "      <td>2010</td>\n",
       "      <td>0.244891</td>\n",
       "      <td>Public</td>\n",
       "      <td>Managers</td>\n",
       "      <td>High</td>\n",
       "    </tr>\n",
       "    <tr>\n",
       "      <th>9</th>\n",
       "      <td>VNM</td>\n",
       "      <td>BI.PWK.PUBS.SN.FE.ZS</td>\n",
       "      <td>2012</td>\n",
       "      <td>0.227645</td>\n",
       "      <td>Public</td>\n",
       "      <td>Managers</td>\n",
       "      <td>High</td>\n",
       "    </tr>\n",
       "    <tr>\n",
       "      <th>10</th>\n",
       "      <td>VNM</td>\n",
       "      <td>BI.PWK.PUBS.SN.FE.ZS</td>\n",
       "      <td>2014</td>\n",
       "      <td>0.217675</td>\n",
       "      <td>Public</td>\n",
       "      <td>Managers</td>\n",
       "      <td>High</td>\n",
       "    </tr>\n",
       "    <tr>\n",
       "      <th>11</th>\n",
       "      <td>VNM</td>\n",
       "      <td>BI.PWK.PUBS.SN.FE.ZS</td>\n",
       "      <td>2016</td>\n",
       "      <td>0.273761</td>\n",
       "      <td>Public</td>\n",
       "      <td>Managers</td>\n",
       "      <td>High</td>\n",
       "    </tr>\n",
       "    <tr>\n",
       "      <th>12</th>\n",
       "      <td>VNM</td>\n",
       "      <td>BI.PWK.PUBS.PN.FE.ZS</td>\n",
       "      <td>2010</td>\n",
       "      <td>0.507583</td>\n",
       "      <td>Public</td>\n",
       "      <td>Professionals</td>\n",
       "      <td>High</td>\n",
       "    </tr>\n",
       "    <tr>\n",
       "      <th>13</th>\n",
       "      <td>VNM</td>\n",
       "      <td>BI.PWK.PUBS.PN.FE.ZS</td>\n",
       "      <td>2012</td>\n",
       "      <td>0.522817</td>\n",
       "      <td>Public</td>\n",
       "      <td>Professionals</td>\n",
       "      <td>High</td>\n",
       "    </tr>\n",
       "    <tr>\n",
       "      <th>14</th>\n",
       "      <td>VNM</td>\n",
       "      <td>BI.PWK.PUBS.PN.FE.ZS</td>\n",
       "      <td>2014</td>\n",
       "      <td>0.543372</td>\n",
       "      <td>Public</td>\n",
       "      <td>Professionals</td>\n",
       "      <td>High</td>\n",
       "    </tr>\n",
       "    <tr>\n",
       "      <th>15</th>\n",
       "      <td>VNM</td>\n",
       "      <td>BI.PWK.PUBS.PN.FE.ZS</td>\n",
       "      <td>2016</td>\n",
       "      <td>0.549129</td>\n",
       "      <td>Public</td>\n",
       "      <td>Professionals</td>\n",
       "      <td>High</td>\n",
       "    </tr>\n",
       "    <tr>\n",
       "      <th>16</th>\n",
       "      <td>VNM</td>\n",
       "      <td>BI.PWK.PUBS.TN.FE.ZS</td>\n",
       "      <td>2010</td>\n",
       "      <td>0.607749</td>\n",
       "      <td>Public</td>\n",
       "      <td>Technicians</td>\n",
       "      <td>High</td>\n",
       "    </tr>\n",
       "    <tr>\n",
       "      <th>17</th>\n",
       "      <td>VNM</td>\n",
       "      <td>BI.PWK.PUBS.TN.FE.ZS</td>\n",
       "      <td>2012</td>\n",
       "      <td>0.630278</td>\n",
       "      <td>Public</td>\n",
       "      <td>Technicians</td>\n",
       "      <td>High</td>\n",
       "    </tr>\n",
       "    <tr>\n",
       "      <th>18</th>\n",
       "      <td>VNM</td>\n",
       "      <td>BI.PWK.PUBS.TN.FE.ZS</td>\n",
       "      <td>2014</td>\n",
       "      <td>0.659490</td>\n",
       "      <td>Public</td>\n",
       "      <td>Technicians</td>\n",
       "      <td>High</td>\n",
       "    </tr>\n",
       "    <tr>\n",
       "      <th>19</th>\n",
       "      <td>VNM</td>\n",
       "      <td>BI.PWK.PUBS.TN.FE.ZS</td>\n",
       "      <td>2016</td>\n",
       "      <td>0.605530</td>\n",
       "      <td>Public</td>\n",
       "      <td>Technicians</td>\n",
       "      <td>High</td>\n",
       "    </tr>\n",
       "    <tr>\n",
       "      <th>20</th>\n",
       "      <td>VNM</td>\n",
       "      <td>BI.PWK.PRVS.CK.FE.ZS</td>\n",
       "      <td>2010</td>\n",
       "      <td>0.528355</td>\n",
       "      <td>Private</td>\n",
       "      <td>Clerks</td>\n",
       "      <td>Low</td>\n",
       "    </tr>\n",
       "    <tr>\n",
       "      <th>21</th>\n",
       "      <td>VNM</td>\n",
       "      <td>BI.PWK.PRVS.CK.FE.ZS</td>\n",
       "      <td>2012</td>\n",
       "      <td>0.517694</td>\n",
       "      <td>Private</td>\n",
       "      <td>Clerks</td>\n",
       "      <td>Low</td>\n",
       "    </tr>\n",
       "    <tr>\n",
       "      <th>22</th>\n",
       "      <td>VNM</td>\n",
       "      <td>BI.PWK.PRVS.CK.FE.ZS</td>\n",
       "      <td>2014</td>\n",
       "      <td>0.582075</td>\n",
       "      <td>Private</td>\n",
       "      <td>Clerks</td>\n",
       "      <td>Low</td>\n",
       "    </tr>\n",
       "    <tr>\n",
       "      <th>23</th>\n",
       "      <td>VNM</td>\n",
       "      <td>BI.PWK.PRVS.CK.FE.ZS</td>\n",
       "      <td>2016</td>\n",
       "      <td>0.642635</td>\n",
       "      <td>Private</td>\n",
       "      <td>Clerks</td>\n",
       "      <td>Low</td>\n",
       "    </tr>\n",
       "    <tr>\n",
       "      <th>24</th>\n",
       "      <td>VNM</td>\n",
       "      <td>BI.PWK.PRVS.EO.FE.ZS</td>\n",
       "      <td>2010</td>\n",
       "      <td>0.394110</td>\n",
       "      <td>Private</td>\n",
       "      <td>Elementary</td>\n",
       "      <td>Low</td>\n",
       "    </tr>\n",
       "    <tr>\n",
       "      <th>25</th>\n",
       "      <td>VNM</td>\n",
       "      <td>BI.PWK.PRVS.EO.FE.ZS</td>\n",
       "      <td>2012</td>\n",
       "      <td>0.517507</td>\n",
       "      <td>Private</td>\n",
       "      <td>Elementary</td>\n",
       "      <td>Low</td>\n",
       "    </tr>\n",
       "    <tr>\n",
       "      <th>26</th>\n",
       "      <td>VNM</td>\n",
       "      <td>BI.PWK.PRVS.EO.FE.ZS</td>\n",
       "      <td>2014</td>\n",
       "      <td>0.478365</td>\n",
       "      <td>Private</td>\n",
       "      <td>Elementary</td>\n",
       "      <td>Low</td>\n",
       "    </tr>\n",
       "    <tr>\n",
       "      <th>27</th>\n",
       "      <td>VNM</td>\n",
       "      <td>BI.PWK.PRVS.EO.FE.ZS</td>\n",
       "      <td>2016</td>\n",
       "      <td>0.386890</td>\n",
       "      <td>Private</td>\n",
       "      <td>Elementary</td>\n",
       "      <td>Low</td>\n",
       "    </tr>\n",
       "    <tr>\n",
       "      <th>28</th>\n",
       "      <td>VNM</td>\n",
       "      <td>BI.PWK.PRVS.SN.FE.ZS</td>\n",
       "      <td>2010</td>\n",
       "      <td>0.240541</td>\n",
       "      <td>Private</td>\n",
       "      <td>Managers</td>\n",
       "      <td>High</td>\n",
       "    </tr>\n",
       "    <tr>\n",
       "      <th>29</th>\n",
       "      <td>VNM</td>\n",
       "      <td>BI.PWK.PRVS.SN.FE.ZS</td>\n",
       "      <td>2012</td>\n",
       "      <td>0.218033</td>\n",
       "      <td>Private</td>\n",
       "      <td>Managers</td>\n",
       "      <td>High</td>\n",
       "    </tr>\n",
       "    <tr>\n",
       "      <th>30</th>\n",
       "      <td>VNM</td>\n",
       "      <td>BI.PWK.PRVS.SN.FE.ZS</td>\n",
       "      <td>2014</td>\n",
       "      <td>0.212719</td>\n",
       "      <td>Private</td>\n",
       "      <td>Managers</td>\n",
       "      <td>High</td>\n",
       "    </tr>\n",
       "    <tr>\n",
       "      <th>31</th>\n",
       "      <td>VNM</td>\n",
       "      <td>BI.PWK.PRVS.SN.FE.ZS</td>\n",
       "      <td>2016</td>\n",
       "      <td>0.183163</td>\n",
       "      <td>Private</td>\n",
       "      <td>Managers</td>\n",
       "      <td>High</td>\n",
       "    </tr>\n",
       "    <tr>\n",
       "      <th>32</th>\n",
       "      <td>VNM</td>\n",
       "      <td>BI.PWK.PRVS.PN.FE.ZS</td>\n",
       "      <td>2010</td>\n",
       "      <td>0.486498</td>\n",
       "      <td>Private</td>\n",
       "      <td>Professionals</td>\n",
       "      <td>High</td>\n",
       "    </tr>\n",
       "    <tr>\n",
       "      <th>33</th>\n",
       "      <td>VNM</td>\n",
       "      <td>BI.PWK.PRVS.PN.FE.ZS</td>\n",
       "      <td>2012</td>\n",
       "      <td>0.431755</td>\n",
       "      <td>Private</td>\n",
       "      <td>Professionals</td>\n",
       "      <td>High</td>\n",
       "    </tr>\n",
       "    <tr>\n",
       "      <th>34</th>\n",
       "      <td>VNM</td>\n",
       "      <td>BI.PWK.PRVS.PN.FE.ZS</td>\n",
       "      <td>2014</td>\n",
       "      <td>0.538617</td>\n",
       "      <td>Private</td>\n",
       "      <td>Professionals</td>\n",
       "      <td>High</td>\n",
       "    </tr>\n",
       "    <tr>\n",
       "      <th>35</th>\n",
       "      <td>VNM</td>\n",
       "      <td>BI.PWK.PRVS.PN.FE.ZS</td>\n",
       "      <td>2016</td>\n",
       "      <td>0.569501</td>\n",
       "      <td>Private</td>\n",
       "      <td>Professionals</td>\n",
       "      <td>High</td>\n",
       "    </tr>\n",
       "    <tr>\n",
       "      <th>36</th>\n",
       "      <td>VNM</td>\n",
       "      <td>BI.PWK.PRVS.TN.FE.ZS</td>\n",
       "      <td>2010</td>\n",
       "      <td>0.539137</td>\n",
       "      <td>Private</td>\n",
       "      <td>Technicians</td>\n",
       "      <td>High</td>\n",
       "    </tr>\n",
       "    <tr>\n",
       "      <th>37</th>\n",
       "      <td>VNM</td>\n",
       "      <td>BI.PWK.PRVS.TN.FE.ZS</td>\n",
       "      <td>2012</td>\n",
       "      <td>0.512007</td>\n",
       "      <td>Private</td>\n",
       "      <td>Technicians</td>\n",
       "      <td>High</td>\n",
       "    </tr>\n",
       "    <tr>\n",
       "      <th>38</th>\n",
       "      <td>VNM</td>\n",
       "      <td>BI.PWK.PRVS.TN.FE.ZS</td>\n",
       "      <td>2014</td>\n",
       "      <td>0.562839</td>\n",
       "      <td>Private</td>\n",
       "      <td>Technicians</td>\n",
       "      <td>High</td>\n",
       "    </tr>\n",
       "    <tr>\n",
       "      <th>39</th>\n",
       "      <td>VNM</td>\n",
       "      <td>BI.PWK.PRVS.TN.FE.ZS</td>\n",
       "      <td>2016</td>\n",
       "      <td>0.500837</td>\n",
       "      <td>Private</td>\n",
       "      <td>Technicians</td>\n",
       "      <td>High</td>\n",
       "    </tr>\n",
       "  </tbody>\n",
       "</table>\n",
       "</div>"
      ],
      "text/plain": [
       "   country_code        indicator_code  year     value   sector     occupation  \\\n",
       "0           VNM  BI.PWK.PUBS.CK.FE.ZS  2010  0.418343   Public         Clerks   \n",
       "1           VNM  BI.PWK.PUBS.CK.FE.ZS  2012  0.619044   Public         Clerks   \n",
       "2           VNM  BI.PWK.PUBS.CK.FE.ZS  2014  0.545412   Public         Clerks   \n",
       "3           VNM  BI.PWK.PUBS.CK.FE.ZS  2016  0.548147   Public         Clerks   \n",
       "4           VNM  BI.PWK.PUBS.EO.FE.ZS  2010  0.503617   Public     Elementary   \n",
       "5           VNM  BI.PWK.PUBS.EO.FE.ZS  2012  0.586875   Public     Elementary   \n",
       "6           VNM  BI.PWK.PUBS.EO.FE.ZS  2014  0.554733   Public     Elementary   \n",
       "7           VNM  BI.PWK.PUBS.EO.FE.ZS  2016  0.590686   Public     Elementary   \n",
       "8           VNM  BI.PWK.PUBS.SN.FE.ZS  2010  0.244891   Public       Managers   \n",
       "9           VNM  BI.PWK.PUBS.SN.FE.ZS  2012  0.227645   Public       Managers   \n",
       "10          VNM  BI.PWK.PUBS.SN.FE.ZS  2014  0.217675   Public       Managers   \n",
       "11          VNM  BI.PWK.PUBS.SN.FE.ZS  2016  0.273761   Public       Managers   \n",
       "12          VNM  BI.PWK.PUBS.PN.FE.ZS  2010  0.507583   Public  Professionals   \n",
       "13          VNM  BI.PWK.PUBS.PN.FE.ZS  2012  0.522817   Public  Professionals   \n",
       "14          VNM  BI.PWK.PUBS.PN.FE.ZS  2014  0.543372   Public  Professionals   \n",
       "15          VNM  BI.PWK.PUBS.PN.FE.ZS  2016  0.549129   Public  Professionals   \n",
       "16          VNM  BI.PWK.PUBS.TN.FE.ZS  2010  0.607749   Public    Technicians   \n",
       "17          VNM  BI.PWK.PUBS.TN.FE.ZS  2012  0.630278   Public    Technicians   \n",
       "18          VNM  BI.PWK.PUBS.TN.FE.ZS  2014  0.659490   Public    Technicians   \n",
       "19          VNM  BI.PWK.PUBS.TN.FE.ZS  2016  0.605530   Public    Technicians   \n",
       "20          VNM  BI.PWK.PRVS.CK.FE.ZS  2010  0.528355  Private         Clerks   \n",
       "21          VNM  BI.PWK.PRVS.CK.FE.ZS  2012  0.517694  Private         Clerks   \n",
       "22          VNM  BI.PWK.PRVS.CK.FE.ZS  2014  0.582075  Private         Clerks   \n",
       "23          VNM  BI.PWK.PRVS.CK.FE.ZS  2016  0.642635  Private         Clerks   \n",
       "24          VNM  BI.PWK.PRVS.EO.FE.ZS  2010  0.394110  Private     Elementary   \n",
       "25          VNM  BI.PWK.PRVS.EO.FE.ZS  2012  0.517507  Private     Elementary   \n",
       "26          VNM  BI.PWK.PRVS.EO.FE.ZS  2014  0.478365  Private     Elementary   \n",
       "27          VNM  BI.PWK.PRVS.EO.FE.ZS  2016  0.386890  Private     Elementary   \n",
       "28          VNM  BI.PWK.PRVS.SN.FE.ZS  2010  0.240541  Private       Managers   \n",
       "29          VNM  BI.PWK.PRVS.SN.FE.ZS  2012  0.218033  Private       Managers   \n",
       "30          VNM  BI.PWK.PRVS.SN.FE.ZS  2014  0.212719  Private       Managers   \n",
       "31          VNM  BI.PWK.PRVS.SN.FE.ZS  2016  0.183163  Private       Managers   \n",
       "32          VNM  BI.PWK.PRVS.PN.FE.ZS  2010  0.486498  Private  Professionals   \n",
       "33          VNM  BI.PWK.PRVS.PN.FE.ZS  2012  0.431755  Private  Professionals   \n",
       "34          VNM  BI.PWK.PRVS.PN.FE.ZS  2014  0.538617  Private  Professionals   \n",
       "35          VNM  BI.PWK.PRVS.PN.FE.ZS  2016  0.569501  Private  Professionals   \n",
       "36          VNM  BI.PWK.PRVS.TN.FE.ZS  2010  0.539137  Private    Technicians   \n",
       "37          VNM  BI.PWK.PRVS.TN.FE.ZS  2012  0.512007  Private    Technicians   \n",
       "38          VNM  BI.PWK.PRVS.TN.FE.ZS  2014  0.562839  Private    Technicians   \n",
       "39          VNM  BI.PWK.PRVS.TN.FE.ZS  2016  0.500837  Private    Technicians   \n",
       "\n",
       "   level  \n",
       "0    Low  \n",
       "1    Low  \n",
       "2    Low  \n",
       "3    Low  \n",
       "4    Low  \n",
       "5    Low  \n",
       "6    Low  \n",
       "7    Low  \n",
       "8   High  \n",
       "9   High  \n",
       "10  High  \n",
       "11  High  \n",
       "12  High  \n",
       "13  High  \n",
       "14  High  \n",
       "15  High  \n",
       "16  High  \n",
       "17  High  \n",
       "18  High  \n",
       "19  High  \n",
       "20   Low  \n",
       "21   Low  \n",
       "22   Low  \n",
       "23   Low  \n",
       "24   Low  \n",
       "25   Low  \n",
       "26   Low  \n",
       "27   Low  \n",
       "28  High  \n",
       "29  High  \n",
       "30  High  \n",
       "31  High  \n",
       "32  High  \n",
       "33  High  \n",
       "34  High  \n",
       "35  High  \n",
       "36  High  \n",
       "37  High  \n",
       "38  High  \n",
       "39  High  "
      ]
     },
     "execution_count": 95,
     "metadata": {},
     "output_type": "execute_result"
    }
   ],
   "source": [
    "integrated_data = integrate_data(dfs)\n",
    "integrated_data"
   ]
  },
  {
   "cell_type": "code",
   "execution_count": 96,
   "metadata": {},
   "outputs": [],
   "source": [
    "def calculate_representation_gap(integrated_df):\n",
    "    \"\"\"\n",
    "    Calculate the average representation by level, sector, and year\n",
    "    \"\"\"\n",
    "    # Group by sector, level, and year and calculate mean value\n",
    "    grouped = integrated_df.groupby(['sector', 'level', 'year'])['value'].mean().reset_index()\n",
    "    \n",
    "    # Pivot to get high and low levels side by side\n",
    "    pivoted = grouped.pivot_table(index=['sector', 'year'], columns='level', values='value').reset_index()\n",
    "    \n",
    "    # Calculate the gap (high - low)\n",
    "    pivoted['gap'] = pivoted['High'] - pivoted['Low']\n",
    "    \n",
    "    return pivoted"
   ]
  },
  {
   "cell_type": "code",
   "execution_count": null,
   "metadata": {},
   "outputs": [
    {
     "data": {
      "application/vnd.microsoft.datawrangler.viewer.v0+json": {
       "columns": [
        {
         "name": "index",
         "rawType": "int64",
         "type": "integer"
        },
        {
         "name": "sector",
         "rawType": "object",
         "type": "string"
        },
        {
         "name": "year",
         "rawType": "int64",
         "type": "integer"
        },
        {
         "name": "High",
         "rawType": "float64",
         "type": "float"
        },
        {
         "name": "Low",
         "rawType": "float64",
         "type": "float"
        },
        {
         "name": "gap",
         "rawType": "float64",
         "type": "float"
        }
       ],
       "conversionMethod": "pd.DataFrame",
       "ref": "d3abd7e2-3443-4593-ab97-99f4aeb14e41",
       "rows": [
        [
         "0",
         "Private",
         "2010",
         "0.4220589399337767",
         "0.461232453584671",
         "-0.03917351365089433"
        ],
        [
         "1",
         "Private",
         "2012",
         "0.3872652053833006",
         "0.5176006257534025",
         "-0.13033542037010187"
        ],
        [
         "2",
         "Private",
         "2014",
         "0.43805827200412767",
         "0.5302196741104125",
         "-0.09216140210628482"
        ],
        [
         "3",
         "Private",
         "2016",
         "0.4178336411714554",
         "0.5147621780633924",
         "-0.09692853689193703"
        ],
        [
         "4",
         "Public",
         "2010",
         "0.45340754588445037",
         "0.4609798789024355",
         "-0.007572333017985156"
        ],
        [
         "5",
         "Public",
         "2012",
         "0.46024661262830097",
         "0.6029596924781799",
         "-0.14271307984987897"
        ],
        [
         "6",
         "Public",
         "2014",
         "0.473512222369512",
         "0.550072193145752",
         "-0.07655997077623994"
        ],
        [
         "7",
         "Public",
         "2016",
         "0.4761399328708653",
         "0.5694164931774139",
         "-0.09327656030654863"
        ]
       ],
       "shape": {
        "columns": 5,
        "rows": 8
       }
      },
      "text/html": [
       "<div>\n",
       "<style scoped>\n",
       "    .dataframe tbody tr th:only-of-type {\n",
       "        vertical-align: middle;\n",
       "    }\n",
       "\n",
       "    .dataframe tbody tr th {\n",
       "        vertical-align: top;\n",
       "    }\n",
       "\n",
       "    .dataframe thead th {\n",
       "        text-align: right;\n",
       "    }\n",
       "</style>\n",
       "<table border=\"1\" class=\"dataframe\">\n",
       "  <thead>\n",
       "    <tr style=\"text-align: right;\">\n",
       "      <th>level</th>\n",
       "      <th>sector</th>\n",
       "      <th>year</th>\n",
       "      <th>High</th>\n",
       "      <th>Low</th>\n",
       "      <th>gap</th>\n",
       "    </tr>\n",
       "  </thead>\n",
       "  <tbody>\n",
       "    <tr>\n",
       "      <th>0</th>\n",
       "      <td>Private</td>\n",
       "      <td>2010</td>\n",
       "      <td>0.422059</td>\n",
       "      <td>0.461232</td>\n",
       "      <td>-0.039174</td>\n",
       "    </tr>\n",
       "    <tr>\n",
       "      <th>1</th>\n",
       "      <td>Private</td>\n",
       "      <td>2012</td>\n",
       "      <td>0.387265</td>\n",
       "      <td>0.517601</td>\n",
       "      <td>-0.130335</td>\n",
       "    </tr>\n",
       "    <tr>\n",
       "      <th>2</th>\n",
       "      <td>Private</td>\n",
       "      <td>2014</td>\n",
       "      <td>0.438058</td>\n",
       "      <td>0.530220</td>\n",
       "      <td>-0.092161</td>\n",
       "    </tr>\n",
       "    <tr>\n",
       "      <th>3</th>\n",
       "      <td>Private</td>\n",
       "      <td>2016</td>\n",
       "      <td>0.417834</td>\n",
       "      <td>0.514762</td>\n",
       "      <td>-0.096929</td>\n",
       "    </tr>\n",
       "    <tr>\n",
       "      <th>4</th>\n",
       "      <td>Public</td>\n",
       "      <td>2010</td>\n",
       "      <td>0.453408</td>\n",
       "      <td>0.460980</td>\n",
       "      <td>-0.007572</td>\n",
       "    </tr>\n",
       "    <tr>\n",
       "      <th>5</th>\n",
       "      <td>Public</td>\n",
       "      <td>2012</td>\n",
       "      <td>0.460247</td>\n",
       "      <td>0.602960</td>\n",
       "      <td>-0.142713</td>\n",
       "    </tr>\n",
       "    <tr>\n",
       "      <th>6</th>\n",
       "      <td>Public</td>\n",
       "      <td>2014</td>\n",
       "      <td>0.473512</td>\n",
       "      <td>0.550072</td>\n",
       "      <td>-0.076560</td>\n",
       "    </tr>\n",
       "    <tr>\n",
       "      <th>7</th>\n",
       "      <td>Public</td>\n",
       "      <td>2016</td>\n",
       "      <td>0.476140</td>\n",
       "      <td>0.569416</td>\n",
       "      <td>-0.093277</td>\n",
       "    </tr>\n",
       "  </tbody>\n",
       "</table>\n",
       "</div>"
      ],
      "text/plain": [
       "level   sector  year      High       Low       gap\n",
       "0      Private  2010  0.422059  0.461232 -0.039174\n",
       "1      Private  2012  0.387265  0.517601 -0.130335\n",
       "2      Private  2014  0.438058  0.530220 -0.092161\n",
       "3      Private  2016  0.417834  0.514762 -0.096929\n",
       "4       Public  2010  0.453408  0.460980 -0.007572\n",
       "5       Public  2012  0.460247  0.602960 -0.142713\n",
       "6       Public  2014  0.473512  0.550072 -0.076560\n",
       "7       Public  2016  0.476140  0.569416 -0.093277"
      ]
     },
     "execution_count": 84,
     "metadata": {},
     "output_type": "execute_result"
    }
   ],
   "source": []
  }
 ],
 "metadata": {
  "kernelspec": {
   "display_name": "dataviz",
   "language": "python",
   "name": "python3"
  },
  "language_info": {
   "codemirror_mode": {
    "name": "ipython",
    "version": 3
   },
   "file_extension": ".py",
   "mimetype": "text/x-python",
   "name": "python",
   "nbconvert_exporter": "python",
   "pygments_lexer": "ipython3",
   "version": "3.10.16"
  }
 },
 "nbformat": 4,
 "nbformat_minor": 2
}
